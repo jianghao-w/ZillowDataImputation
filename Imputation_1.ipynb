{
 "cells": [
  {
   "cell_type": "markdown",
   "metadata": {
    "id": "rXLR-LqllDos"
   },
   "source": [
    "## Importing the necessary libraries and setting of global variables"
   ]
  },
  {
   "cell_type": "code",
   "execution_count": 1,
   "metadata": {
    "executionInfo": {
     "elapsed": 1,
     "status": "ok",
     "timestamp": 1669531605965,
     "user": {
      "displayName": "Hok Wang",
      "userId": "02122581822260904525"
     },
     "user_tz": 360
    },
    "id": "cr0CIjB1k6Dz"
   },
   "outputs": [],
   "source": [
    "import pandas as pd\n",
    "import numpy as np\n",
    "import matplotlib.pyplot as plt\n",
    "import seaborn as sns\n",
    "\n",
    "from sklearn.experimental import enable_iterative_imputer # noqa\n",
    "from sklearn.linear_model import LogisticRegression, LinearRegression\n",
    "from sklearn.metrics import accuracy_score, f1_score, mean_squared_error, r2_score\n",
    "from sklearn.model_selection import train_test_split, GridSearchCV, cross_val_score\n",
    "from sklearn.preprocessing import LabelEncoder, StandardScaler, PolynomialFeatures\n",
    "from sklearn import linear_model\n",
    "from sklearn.pipeline import Pipeline\n",
    "from scipy import stats\n",
    "from sklearn.impute import SimpleImputer\n",
    "from sklearn.impute import IterativeImputer\n",
    "from sklearn.linear_model import BayesianRidge\n",
    "from sklearn.tree import DecisionTreeRegressor\n",
    "from sklearn.ensemble import RandomForestRegressor\n",
    "from sklearn.neural_network import MLPRegressor\n",
    "from sklearn.neighbors import KNeighborsRegressor\n",
    "from sklearn.pipeline import make_pipeline\n",
    "from sklearn.decomposition import PCA\n",
    "import multiprocessing as mp\n",
    "\n",
    "%matplotlib inline"
   ]
  },
  {
   "cell_type": "code",
   "execution_count": 2,
   "metadata": {
    "executionInfo": {
     "elapsed": 2,
     "status": "ok",
     "timestamp": 1669531605966,
     "user": {
      "displayName": "Hok Wang",
      "userId": "02122581822260904525"
     },
     "user_tz": 360
    },
    "id": "D4Yj7qydlJic"
   },
   "outputs": [
    {
     "name": "stdout",
     "output_type": "stream",
     "text": [
      "12\n"
     ]
    }
   ],
   "source": [
    "pd.options.display.max_columns = None\n",
    "\n",
    "N_CPUs = mp.cpu_count()\n",
    "print(N_CPUs)\n",
    "# Global varaibles\n",
    "FEATURE_COLUMNS = []\n",
    "column_names = ['Dataset', 'Imputation Algorithm', 'n_nearest_features','Train r^2 score', 'Prediction r^2 score', 'Train RMSE','Prediction RMSE']\n",
    "RESULTS_SUMMARY = pd.DataFrame(columns=column_names)"
   ]
  },
  {
   "cell_type": "markdown",
   "metadata": {
    "id": "qzRPzkBZmou2"
   },
   "source": [
    "### Helper Functions"
   ]
  },
  {
   "cell_type": "code",
   "execution_count": 3,
   "metadata": {
    "executionInfo": {
     "elapsed": 183,
     "status": "ok",
     "timestamp": 1669531606147,
     "user": {
      "displayName": "Hok Wang",
      "userId": "02122581822260904525"
     },
     "user_tz": 360
    },
    "id": "xClPseqAlV6-"
   },
   "outputs": [],
   "source": [
    "# Drop a fraction of columns\n",
    "def drop_column_frac(df:pd.DataFrame, column_name:str, replace_with, drop_frac=0.1) -> pd.DataFrame:\n",
    "    drop_idx = df[column_name].sample(frac=drop_frac).index\n",
    "    dropped_df = df.copy()\n",
    "    dropped_df.loc[drop_idx, column_name] = replace_with\n",
    "    return dropped_df\n",
    "\n",
    "# Drop columns \n",
    "def drop_columns(df:pd.DataFrame, columns_to_drop: list) -> pd.DataFrame:\n",
    "    return df.drop(columns=columns_to_drop)\n",
    "\n",
    "# Drop NAs\n",
    "def drop_nas(df:pd.DataFrame) -> pd.DataFrame:\n",
    "    return df.dropna()\n",
    "\n",
    "# Returns best_score_, best_params_, grid_search object\n",
    "def grid_search(X:np.array, y:np.array, pipeline: Pipeline, params_grid: dict, n_jobs=N_CPUs - 1) -> (float, dict, float):\n",
    "    search = GridSearchCV(pipeline, params_grid, n_jobs=n_jobs)\n",
    "    search.fit(X, y)\n",
    "    return search.best_score_, search.best_params_, search\n",
    "\n",
    "# Run pipeline\n",
    "def run_pipeline(X_train:np.array, y_train:np.array, X_test:np.array, y_test:np.array, pipeline: Pipeline, params_grid: dict) -> [float, float]:\n",
    "    # Set Parameters\n",
    "    pipeline.set_params(**params_grid)\n",
    "    # Fit data\n",
    "    pipeline.fit(X_train, y_train)\n",
    "    # Predict data\n",
    "    y_predicted = pipeline.predict(X_test)\n",
    "    # Calculate scores\n",
    "  \n",
    "    mean_error = mean_squared_error(y_test, y_predicted)\n",
    "    rms = mean_squared_error(y_test, y_predicted, squared=False)\n",
    "    r2_score_val = r2_score(y_test, y_predicted)\n",
    "\n",
    "    return  mean_error, rms, r2_score_val"
   ]
  },
  {
   "cell_type": "markdown",
   "metadata": {
    "id": "ZRW1MFp0mxq7"
   },
   "source": [
    "# Zillow Dataset"
   ]
  },
  {
   "cell_type": "markdown",
   "metadata": {
    "id": "oWpSGhFhnF_h"
   },
   "source": [
    "## Data Preprocessing on Zillow Data"
   ]
  },
  {
   "cell_type": "code",
   "execution_count": 4,
   "metadata": {
    "colab": {
     "base_uri": "https://localhost:8080/",
     "height": 637
    },
    "executionInfo": {
     "elapsed": 1230,
     "status": "ok",
     "timestamp": 1669531607375,
     "user": {
      "displayName": "Hok Wang",
      "userId": "02122581822260904525"
     },
     "user_tz": 360
    },
    "id": "bjGq4VJdml8D",
    "outputId": "71e0f3b6-233e-465c-8c89-75b5d7ce7836"
   },
   "outputs": [
    {
     "name": "stderr",
     "output_type": "stream",
     "text": [
      "C:\\Users\\Hok Wang\\AppData\\Local\\Temp\\ipykernel_6432\\997483806.py:2: DtypeWarning: Columns (49) have mixed types. Specify dtype option on import or set low_memory=False.\n",
      "  zillow_df = pd.read_csv('data/zillow/properties_2016_small.csv')\n"
     ]
    },
    {
     "data": {
      "text/html": [
       "<div>\n",
       "<style scoped>\n",
       "    .dataframe tbody tr th:only-of-type {\n",
       "        vertical-align: middle;\n",
       "    }\n",
       "\n",
       "    .dataframe tbody tr th {\n",
       "        vertical-align: top;\n",
       "    }\n",
       "\n",
       "    .dataframe thead th {\n",
       "        text-align: right;\n",
       "    }\n",
       "</style>\n",
       "<table border=\"1\" class=\"dataframe\">\n",
       "  <thead>\n",
       "    <tr style=\"text-align: right;\">\n",
       "      <th></th>\n",
       "      <th>parcelid</th>\n",
       "      <th>airconditioningtypeid</th>\n",
       "      <th>architecturalstyletypeid</th>\n",
       "      <th>basementsqft</th>\n",
       "      <th>bathroomcnt</th>\n",
       "      <th>bedroomcnt</th>\n",
       "      <th>buildingclasstypeid</th>\n",
       "      <th>buildingqualitytypeid</th>\n",
       "      <th>calculatedbathnbr</th>\n",
       "      <th>decktypeid</th>\n",
       "      <th>finishedfloor1squarefeet</th>\n",
       "      <th>calculatedfinishedsquarefeet</th>\n",
       "      <th>finishedsquarefeet12</th>\n",
       "      <th>finishedsquarefeet13</th>\n",
       "      <th>finishedsquarefeet15</th>\n",
       "      <th>finishedsquarefeet50</th>\n",
       "      <th>finishedsquarefeet6</th>\n",
       "      <th>fips</th>\n",
       "      <th>fireplacecnt</th>\n",
       "      <th>fullbathcnt</th>\n",
       "      <th>garagecarcnt</th>\n",
       "      <th>garagetotalsqft</th>\n",
       "      <th>hashottuborspa</th>\n",
       "      <th>heatingorsystemtypeid</th>\n",
       "      <th>latitude</th>\n",
       "      <th>longitude</th>\n",
       "      <th>lotsizesquarefeet</th>\n",
       "      <th>poolcnt</th>\n",
       "      <th>poolsizesum</th>\n",
       "      <th>pooltypeid10</th>\n",
       "      <th>pooltypeid2</th>\n",
       "      <th>pooltypeid7</th>\n",
       "      <th>propertycountylandusecode</th>\n",
       "      <th>propertylandusetypeid</th>\n",
       "      <th>propertyzoningdesc</th>\n",
       "      <th>rawcensustractandblock</th>\n",
       "      <th>regionidcity</th>\n",
       "      <th>regionidcounty</th>\n",
       "      <th>regionidneighborhood</th>\n",
       "      <th>regionidzip</th>\n",
       "      <th>roomcnt</th>\n",
       "      <th>storytypeid</th>\n",
       "      <th>threequarterbathnbr</th>\n",
       "      <th>typeconstructiontypeid</th>\n",
       "      <th>unitcnt</th>\n",
       "      <th>yardbuildingsqft17</th>\n",
       "      <th>yardbuildingsqft26</th>\n",
       "      <th>yearbuilt</th>\n",
       "      <th>numberofstories</th>\n",
       "      <th>fireplaceflag</th>\n",
       "      <th>structuretaxvaluedollarcnt</th>\n",
       "      <th>taxvaluedollarcnt</th>\n",
       "      <th>assessmentyear</th>\n",
       "      <th>landtaxvaluedollarcnt</th>\n",
       "      <th>taxamount</th>\n",
       "      <th>taxdelinquencyflag</th>\n",
       "      <th>taxdelinquencyyear</th>\n",
       "      <th>censustractandblock</th>\n",
       "    </tr>\n",
       "  </thead>\n",
       "  <tbody>\n",
       "    <tr>\n",
       "      <th>0</th>\n",
       "      <td>10754147</td>\n",
       "      <td>NaN</td>\n",
       "      <td>NaN</td>\n",
       "      <td>NaN</td>\n",
       "      <td>0.0</td>\n",
       "      <td>0.0</td>\n",
       "      <td>NaN</td>\n",
       "      <td>NaN</td>\n",
       "      <td>NaN</td>\n",
       "      <td>NaN</td>\n",
       "      <td>NaN</td>\n",
       "      <td>NaN</td>\n",
       "      <td>NaN</td>\n",
       "      <td>NaN</td>\n",
       "      <td>NaN</td>\n",
       "      <td>NaN</td>\n",
       "      <td>NaN</td>\n",
       "      <td>6037.0</td>\n",
       "      <td>NaN</td>\n",
       "      <td>NaN</td>\n",
       "      <td>NaN</td>\n",
       "      <td>NaN</td>\n",
       "      <td>NaN</td>\n",
       "      <td>NaN</td>\n",
       "      <td>34144442.0</td>\n",
       "      <td>-118654084.0</td>\n",
       "      <td>85768.0</td>\n",
       "      <td>NaN</td>\n",
       "      <td>NaN</td>\n",
       "      <td>NaN</td>\n",
       "      <td>NaN</td>\n",
       "      <td>NaN</td>\n",
       "      <td>010D</td>\n",
       "      <td>269.0</td>\n",
       "      <td>NaN</td>\n",
       "      <td>6.037800e+07</td>\n",
       "      <td>37688.0</td>\n",
       "      <td>3101.0</td>\n",
       "      <td>NaN</td>\n",
       "      <td>96337.0</td>\n",
       "      <td>0.0</td>\n",
       "      <td>NaN</td>\n",
       "      <td>NaN</td>\n",
       "      <td>NaN</td>\n",
       "      <td>NaN</td>\n",
       "      <td>NaN</td>\n",
       "      <td>NaN</td>\n",
       "      <td>NaN</td>\n",
       "      <td>NaN</td>\n",
       "      <td>NaN</td>\n",
       "      <td>NaN</td>\n",
       "      <td>9.0</td>\n",
       "      <td>2015.0</td>\n",
       "      <td>9.0</td>\n",
       "      <td>NaN</td>\n",
       "      <td>NaN</td>\n",
       "      <td>NaN</td>\n",
       "      <td>NaN</td>\n",
       "    </tr>\n",
       "    <tr>\n",
       "      <th>1</th>\n",
       "      <td>10759547</td>\n",
       "      <td>NaN</td>\n",
       "      <td>NaN</td>\n",
       "      <td>NaN</td>\n",
       "      <td>0.0</td>\n",
       "      <td>0.0</td>\n",
       "      <td>NaN</td>\n",
       "      <td>NaN</td>\n",
       "      <td>NaN</td>\n",
       "      <td>NaN</td>\n",
       "      <td>NaN</td>\n",
       "      <td>NaN</td>\n",
       "      <td>NaN</td>\n",
       "      <td>NaN</td>\n",
       "      <td>NaN</td>\n",
       "      <td>NaN</td>\n",
       "      <td>NaN</td>\n",
       "      <td>6037.0</td>\n",
       "      <td>NaN</td>\n",
       "      <td>NaN</td>\n",
       "      <td>NaN</td>\n",
       "      <td>NaN</td>\n",
       "      <td>NaN</td>\n",
       "      <td>NaN</td>\n",
       "      <td>34140430.0</td>\n",
       "      <td>-118625364.0</td>\n",
       "      <td>4083.0</td>\n",
       "      <td>NaN</td>\n",
       "      <td>NaN</td>\n",
       "      <td>NaN</td>\n",
       "      <td>NaN</td>\n",
       "      <td>NaN</td>\n",
       "      <td>0109</td>\n",
       "      <td>261.0</td>\n",
       "      <td>LCA11*</td>\n",
       "      <td>6.037800e+07</td>\n",
       "      <td>37688.0</td>\n",
       "      <td>3101.0</td>\n",
       "      <td>NaN</td>\n",
       "      <td>96337.0</td>\n",
       "      <td>0.0</td>\n",
       "      <td>NaN</td>\n",
       "      <td>NaN</td>\n",
       "      <td>NaN</td>\n",
       "      <td>NaN</td>\n",
       "      <td>NaN</td>\n",
       "      <td>NaN</td>\n",
       "      <td>NaN</td>\n",
       "      <td>NaN</td>\n",
       "      <td>NaN</td>\n",
       "      <td>NaN</td>\n",
       "      <td>27516.0</td>\n",
       "      <td>2015.0</td>\n",
       "      <td>27516.0</td>\n",
       "      <td>NaN</td>\n",
       "      <td>NaN</td>\n",
       "      <td>NaN</td>\n",
       "      <td>NaN</td>\n",
       "    </tr>\n",
       "    <tr>\n",
       "      <th>2</th>\n",
       "      <td>10843547</td>\n",
       "      <td>NaN</td>\n",
       "      <td>NaN</td>\n",
       "      <td>NaN</td>\n",
       "      <td>0.0</td>\n",
       "      <td>0.0</td>\n",
       "      <td>NaN</td>\n",
       "      <td>NaN</td>\n",
       "      <td>NaN</td>\n",
       "      <td>NaN</td>\n",
       "      <td>NaN</td>\n",
       "      <td>73026.0</td>\n",
       "      <td>NaN</td>\n",
       "      <td>NaN</td>\n",
       "      <td>73026.0</td>\n",
       "      <td>NaN</td>\n",
       "      <td>NaN</td>\n",
       "      <td>6037.0</td>\n",
       "      <td>NaN</td>\n",
       "      <td>NaN</td>\n",
       "      <td>NaN</td>\n",
       "      <td>NaN</td>\n",
       "      <td>NaN</td>\n",
       "      <td>NaN</td>\n",
       "      <td>33989359.0</td>\n",
       "      <td>-118394633.0</td>\n",
       "      <td>63085.0</td>\n",
       "      <td>NaN</td>\n",
       "      <td>NaN</td>\n",
       "      <td>NaN</td>\n",
       "      <td>NaN</td>\n",
       "      <td>NaN</td>\n",
       "      <td>1200</td>\n",
       "      <td>47.0</td>\n",
       "      <td>LAC2</td>\n",
       "      <td>6.037703e+07</td>\n",
       "      <td>51617.0</td>\n",
       "      <td>3101.0</td>\n",
       "      <td>NaN</td>\n",
       "      <td>96095.0</td>\n",
       "      <td>0.0</td>\n",
       "      <td>NaN</td>\n",
       "      <td>NaN</td>\n",
       "      <td>NaN</td>\n",
       "      <td>2.0</td>\n",
       "      <td>NaN</td>\n",
       "      <td>NaN</td>\n",
       "      <td>NaN</td>\n",
       "      <td>NaN</td>\n",
       "      <td>NaN</td>\n",
       "      <td>650756.0</td>\n",
       "      <td>1413387.0</td>\n",
       "      <td>2015.0</td>\n",
       "      <td>762631.0</td>\n",
       "      <td>20800.37</td>\n",
       "      <td>NaN</td>\n",
       "      <td>NaN</td>\n",
       "      <td>NaN</td>\n",
       "    </tr>\n",
       "    <tr>\n",
       "      <th>3</th>\n",
       "      <td>10859147</td>\n",
       "      <td>NaN</td>\n",
       "      <td>NaN</td>\n",
       "      <td>NaN</td>\n",
       "      <td>0.0</td>\n",
       "      <td>0.0</td>\n",
       "      <td>3.0</td>\n",
       "      <td>7.0</td>\n",
       "      <td>NaN</td>\n",
       "      <td>NaN</td>\n",
       "      <td>NaN</td>\n",
       "      <td>5068.0</td>\n",
       "      <td>NaN</td>\n",
       "      <td>NaN</td>\n",
       "      <td>5068.0</td>\n",
       "      <td>NaN</td>\n",
       "      <td>NaN</td>\n",
       "      <td>6037.0</td>\n",
       "      <td>NaN</td>\n",
       "      <td>NaN</td>\n",
       "      <td>NaN</td>\n",
       "      <td>NaN</td>\n",
       "      <td>NaN</td>\n",
       "      <td>NaN</td>\n",
       "      <td>34148863.0</td>\n",
       "      <td>-118437206.0</td>\n",
       "      <td>7521.0</td>\n",
       "      <td>NaN</td>\n",
       "      <td>NaN</td>\n",
       "      <td>NaN</td>\n",
       "      <td>NaN</td>\n",
       "      <td>NaN</td>\n",
       "      <td>1200</td>\n",
       "      <td>47.0</td>\n",
       "      <td>LAC2</td>\n",
       "      <td>6.037141e+07</td>\n",
       "      <td>12447.0</td>\n",
       "      <td>3101.0</td>\n",
       "      <td>27080.0</td>\n",
       "      <td>96424.0</td>\n",
       "      <td>0.0</td>\n",
       "      <td>NaN</td>\n",
       "      <td>NaN</td>\n",
       "      <td>NaN</td>\n",
       "      <td>NaN</td>\n",
       "      <td>NaN</td>\n",
       "      <td>NaN</td>\n",
       "      <td>1948.0</td>\n",
       "      <td>1.0</td>\n",
       "      <td>NaN</td>\n",
       "      <td>571346.0</td>\n",
       "      <td>1156834.0</td>\n",
       "      <td>2015.0</td>\n",
       "      <td>585488.0</td>\n",
       "      <td>14557.57</td>\n",
       "      <td>NaN</td>\n",
       "      <td>NaN</td>\n",
       "      <td>NaN</td>\n",
       "    </tr>\n",
       "    <tr>\n",
       "      <th>4</th>\n",
       "      <td>10879947</td>\n",
       "      <td>NaN</td>\n",
       "      <td>NaN</td>\n",
       "      <td>NaN</td>\n",
       "      <td>0.0</td>\n",
       "      <td>0.0</td>\n",
       "      <td>4.0</td>\n",
       "      <td>NaN</td>\n",
       "      <td>NaN</td>\n",
       "      <td>NaN</td>\n",
       "      <td>NaN</td>\n",
       "      <td>1776.0</td>\n",
       "      <td>NaN</td>\n",
       "      <td>NaN</td>\n",
       "      <td>1776.0</td>\n",
       "      <td>NaN</td>\n",
       "      <td>NaN</td>\n",
       "      <td>6037.0</td>\n",
       "      <td>NaN</td>\n",
       "      <td>NaN</td>\n",
       "      <td>NaN</td>\n",
       "      <td>NaN</td>\n",
       "      <td>NaN</td>\n",
       "      <td>NaN</td>\n",
       "      <td>34194168.0</td>\n",
       "      <td>-118385816.0</td>\n",
       "      <td>8512.0</td>\n",
       "      <td>NaN</td>\n",
       "      <td>NaN</td>\n",
       "      <td>NaN</td>\n",
       "      <td>NaN</td>\n",
       "      <td>NaN</td>\n",
       "      <td>1210</td>\n",
       "      <td>31.0</td>\n",
       "      <td>LAM1</td>\n",
       "      <td>6.037123e+07</td>\n",
       "      <td>12447.0</td>\n",
       "      <td>3101.0</td>\n",
       "      <td>46795.0</td>\n",
       "      <td>96450.0</td>\n",
       "      <td>0.0</td>\n",
       "      <td>NaN</td>\n",
       "      <td>NaN</td>\n",
       "      <td>NaN</td>\n",
       "      <td>1.0</td>\n",
       "      <td>NaN</td>\n",
       "      <td>NaN</td>\n",
       "      <td>1947.0</td>\n",
       "      <td>NaN</td>\n",
       "      <td>NaN</td>\n",
       "      <td>193796.0</td>\n",
       "      <td>433491.0</td>\n",
       "      <td>2015.0</td>\n",
       "      <td>239695.0</td>\n",
       "      <td>5725.17</td>\n",
       "      <td>NaN</td>\n",
       "      <td>NaN</td>\n",
       "      <td>NaN</td>\n",
       "    </tr>\n",
       "    <tr>\n",
       "      <th>5</th>\n",
       "      <td>10898347</td>\n",
       "      <td>NaN</td>\n",
       "      <td>NaN</td>\n",
       "      <td>NaN</td>\n",
       "      <td>0.0</td>\n",
       "      <td>0.0</td>\n",
       "      <td>4.0</td>\n",
       "      <td>7.0</td>\n",
       "      <td>NaN</td>\n",
       "      <td>NaN</td>\n",
       "      <td>NaN</td>\n",
       "      <td>2400.0</td>\n",
       "      <td>NaN</td>\n",
       "      <td>NaN</td>\n",
       "      <td>2400.0</td>\n",
       "      <td>NaN</td>\n",
       "      <td>NaN</td>\n",
       "      <td>6037.0</td>\n",
       "      <td>NaN</td>\n",
       "      <td>NaN</td>\n",
       "      <td>NaN</td>\n",
       "      <td>NaN</td>\n",
       "      <td>NaN</td>\n",
       "      <td>NaN</td>\n",
       "      <td>34171873.0</td>\n",
       "      <td>-118380906.0</td>\n",
       "      <td>2500.0</td>\n",
       "      <td>NaN</td>\n",
       "      <td>NaN</td>\n",
       "      <td>NaN</td>\n",
       "      <td>NaN</td>\n",
       "      <td>NaN</td>\n",
       "      <td>1210</td>\n",
       "      <td>31.0</td>\n",
       "      <td>LAC4</td>\n",
       "      <td>6.037125e+07</td>\n",
       "      <td>12447.0</td>\n",
       "      <td>3101.0</td>\n",
       "      <td>46795.0</td>\n",
       "      <td>96446.0</td>\n",
       "      <td>0.0</td>\n",
       "      <td>NaN</td>\n",
       "      <td>NaN</td>\n",
       "      <td>NaN</td>\n",
       "      <td>NaN</td>\n",
       "      <td>NaN</td>\n",
       "      <td>NaN</td>\n",
       "      <td>1943.0</td>\n",
       "      <td>1.0</td>\n",
       "      <td>NaN</td>\n",
       "      <td>176383.0</td>\n",
       "      <td>283315.0</td>\n",
       "      <td>2015.0</td>\n",
       "      <td>106932.0</td>\n",
       "      <td>3661.28</td>\n",
       "      <td>NaN</td>\n",
       "      <td>NaN</td>\n",
       "      <td>NaN</td>\n",
       "    </tr>\n",
       "    <tr>\n",
       "      <th>6</th>\n",
       "      <td>10933547</td>\n",
       "      <td>NaN</td>\n",
       "      <td>NaN</td>\n",
       "      <td>NaN</td>\n",
       "      <td>0.0</td>\n",
       "      <td>0.0</td>\n",
       "      <td>NaN</td>\n",
       "      <td>NaN</td>\n",
       "      <td>NaN</td>\n",
       "      <td>NaN</td>\n",
       "      <td>NaN</td>\n",
       "      <td>NaN</td>\n",
       "      <td>NaN</td>\n",
       "      <td>NaN</td>\n",
       "      <td>NaN</td>\n",
       "      <td>NaN</td>\n",
       "      <td>NaN</td>\n",
       "      <td>6037.0</td>\n",
       "      <td>NaN</td>\n",
       "      <td>NaN</td>\n",
       "      <td>NaN</td>\n",
       "      <td>NaN</td>\n",
       "      <td>NaN</td>\n",
       "      <td>NaN</td>\n",
       "      <td>34131929.0</td>\n",
       "      <td>-118351474.0</td>\n",
       "      <td>NaN</td>\n",
       "      <td>NaN</td>\n",
       "      <td>NaN</td>\n",
       "      <td>NaN</td>\n",
       "      <td>NaN</td>\n",
       "      <td>NaN</td>\n",
       "      <td>010V</td>\n",
       "      <td>260.0</td>\n",
       "      <td>LAC2</td>\n",
       "      <td>6.037144e+07</td>\n",
       "      <td>12447.0</td>\n",
       "      <td>3101.0</td>\n",
       "      <td>274049.0</td>\n",
       "      <td>96049.0</td>\n",
       "      <td>0.0</td>\n",
       "      <td>NaN</td>\n",
       "      <td>NaN</td>\n",
       "      <td>NaN</td>\n",
       "      <td>NaN</td>\n",
       "      <td>NaN</td>\n",
       "      <td>NaN</td>\n",
       "      <td>NaN</td>\n",
       "      <td>NaN</td>\n",
       "      <td>NaN</td>\n",
       "      <td>397945.0</td>\n",
       "      <td>554573.0</td>\n",
       "      <td>2015.0</td>\n",
       "      <td>156628.0</td>\n",
       "      <td>6773.34</td>\n",
       "      <td>NaN</td>\n",
       "      <td>NaN</td>\n",
       "      <td>NaN</td>\n",
       "    </tr>\n",
       "    <tr>\n",
       "      <th>7</th>\n",
       "      <td>10940747</td>\n",
       "      <td>NaN</td>\n",
       "      <td>NaN</td>\n",
       "      <td>NaN</td>\n",
       "      <td>0.0</td>\n",
       "      <td>0.0</td>\n",
       "      <td>NaN</td>\n",
       "      <td>NaN</td>\n",
       "      <td>NaN</td>\n",
       "      <td>NaN</td>\n",
       "      <td>NaN</td>\n",
       "      <td>3611.0</td>\n",
       "      <td>NaN</td>\n",
       "      <td>NaN</td>\n",
       "      <td>3611.0</td>\n",
       "      <td>NaN</td>\n",
       "      <td>NaN</td>\n",
       "      <td>6037.0</td>\n",
       "      <td>NaN</td>\n",
       "      <td>NaN</td>\n",
       "      <td>NaN</td>\n",
       "      <td>NaN</td>\n",
       "      <td>NaN</td>\n",
       "      <td>NaN</td>\n",
       "      <td>34171345.0</td>\n",
       "      <td>-118314900.0</td>\n",
       "      <td>5333.0</td>\n",
       "      <td>NaN</td>\n",
       "      <td>NaN</td>\n",
       "      <td>NaN</td>\n",
       "      <td>NaN</td>\n",
       "      <td>NaN</td>\n",
       "      <td>1210</td>\n",
       "      <td>31.0</td>\n",
       "      <td>BUC4YY</td>\n",
       "      <td>6.037311e+07</td>\n",
       "      <td>396054.0</td>\n",
       "      <td>3101.0</td>\n",
       "      <td>NaN</td>\n",
       "      <td>96434.0</td>\n",
       "      <td>0.0</td>\n",
       "      <td>NaN</td>\n",
       "      <td>NaN</td>\n",
       "      <td>NaN</td>\n",
       "      <td>NaN</td>\n",
       "      <td>NaN</td>\n",
       "      <td>NaN</td>\n",
       "      <td>1946.0</td>\n",
       "      <td>1.0</td>\n",
       "      <td>NaN</td>\n",
       "      <td>101998.0</td>\n",
       "      <td>688486.0</td>\n",
       "      <td>2015.0</td>\n",
       "      <td>586488.0</td>\n",
       "      <td>7857.84</td>\n",
       "      <td>NaN</td>\n",
       "      <td>NaN</td>\n",
       "      <td>NaN</td>\n",
       "    </tr>\n",
       "    <tr>\n",
       "      <th>8</th>\n",
       "      <td>10954547</td>\n",
       "      <td>NaN</td>\n",
       "      <td>NaN</td>\n",
       "      <td>NaN</td>\n",
       "      <td>0.0</td>\n",
       "      <td>0.0</td>\n",
       "      <td>NaN</td>\n",
       "      <td>NaN</td>\n",
       "      <td>NaN</td>\n",
       "      <td>NaN</td>\n",
       "      <td>NaN</td>\n",
       "      <td>NaN</td>\n",
       "      <td>NaN</td>\n",
       "      <td>NaN</td>\n",
       "      <td>NaN</td>\n",
       "      <td>NaN</td>\n",
       "      <td>NaN</td>\n",
       "      <td>6037.0</td>\n",
       "      <td>NaN</td>\n",
       "      <td>NaN</td>\n",
       "      <td>NaN</td>\n",
       "      <td>NaN</td>\n",
       "      <td>NaN</td>\n",
       "      <td>NaN</td>\n",
       "      <td>34218210.0</td>\n",
       "      <td>-118331311.0</td>\n",
       "      <td>145865.0</td>\n",
       "      <td>NaN</td>\n",
       "      <td>NaN</td>\n",
       "      <td>NaN</td>\n",
       "      <td>NaN</td>\n",
       "      <td>NaN</td>\n",
       "      <td>010D</td>\n",
       "      <td>269.0</td>\n",
       "      <td>BUR1*</td>\n",
       "      <td>6.037310e+07</td>\n",
       "      <td>396054.0</td>\n",
       "      <td>3101.0</td>\n",
       "      <td>NaN</td>\n",
       "      <td>96436.0</td>\n",
       "      <td>0.0</td>\n",
       "      <td>NaN</td>\n",
       "      <td>NaN</td>\n",
       "      <td>NaN</td>\n",
       "      <td>NaN</td>\n",
       "      <td>NaN</td>\n",
       "      <td>NaN</td>\n",
       "      <td>NaN</td>\n",
       "      <td>NaN</td>\n",
       "      <td>NaN</td>\n",
       "      <td>NaN</td>\n",
       "      <td>9.0</td>\n",
       "      <td>2015.0</td>\n",
       "      <td>9.0</td>\n",
       "      <td>NaN</td>\n",
       "      <td>NaN</td>\n",
       "      <td>NaN</td>\n",
       "      <td>NaN</td>\n",
       "    </tr>\n",
       "    <tr>\n",
       "      <th>9</th>\n",
       "      <td>10976347</td>\n",
       "      <td>NaN</td>\n",
       "      <td>NaN</td>\n",
       "      <td>NaN</td>\n",
       "      <td>0.0</td>\n",
       "      <td>0.0</td>\n",
       "      <td>3.0</td>\n",
       "      <td>7.0</td>\n",
       "      <td>NaN</td>\n",
       "      <td>NaN</td>\n",
       "      <td>NaN</td>\n",
       "      <td>3754.0</td>\n",
       "      <td>NaN</td>\n",
       "      <td>NaN</td>\n",
       "      <td>3754.0</td>\n",
       "      <td>NaN</td>\n",
       "      <td>NaN</td>\n",
       "      <td>6037.0</td>\n",
       "      <td>NaN</td>\n",
       "      <td>NaN</td>\n",
       "      <td>NaN</td>\n",
       "      <td>NaN</td>\n",
       "      <td>NaN</td>\n",
       "      <td>NaN</td>\n",
       "      <td>34289776.0</td>\n",
       "      <td>-118432085.0</td>\n",
       "      <td>7494.0</td>\n",
       "      <td>NaN</td>\n",
       "      <td>NaN</td>\n",
       "      <td>NaN</td>\n",
       "      <td>NaN</td>\n",
       "      <td>NaN</td>\n",
       "      <td>1210</td>\n",
       "      <td>31.0</td>\n",
       "      <td>SFC2*</td>\n",
       "      <td>6.037320e+07</td>\n",
       "      <td>47547.0</td>\n",
       "      <td>3101.0</td>\n",
       "      <td>NaN</td>\n",
       "      <td>96366.0</td>\n",
       "      <td>0.0</td>\n",
       "      <td>NaN</td>\n",
       "      <td>NaN</td>\n",
       "      <td>NaN</td>\n",
       "      <td>NaN</td>\n",
       "      <td>NaN</td>\n",
       "      <td>NaN</td>\n",
       "      <td>1978.0</td>\n",
       "      <td>1.0</td>\n",
       "      <td>NaN</td>\n",
       "      <td>218440.0</td>\n",
       "      <td>261201.0</td>\n",
       "      <td>2015.0</td>\n",
       "      <td>42761.0</td>\n",
       "      <td>4054.76</td>\n",
       "      <td>NaN</td>\n",
       "      <td>NaN</td>\n",
       "      <td>NaN</td>\n",
       "    </tr>\n",
       "    <tr>\n",
       "      <th>10</th>\n",
       "      <td>11073947</td>\n",
       "      <td>NaN</td>\n",
       "      <td>NaN</td>\n",
       "      <td>NaN</td>\n",
       "      <td>0.0</td>\n",
       "      <td>0.0</td>\n",
       "      <td>4.0</td>\n",
       "      <td>NaN</td>\n",
       "      <td>NaN</td>\n",
       "      <td>NaN</td>\n",
       "      <td>NaN</td>\n",
       "      <td>2470.0</td>\n",
       "      <td>NaN</td>\n",
       "      <td>NaN</td>\n",
       "      <td>2470.0</td>\n",
       "      <td>NaN</td>\n",
       "      <td>NaN</td>\n",
       "      <td>6037.0</td>\n",
       "      <td>NaN</td>\n",
       "      <td>NaN</td>\n",
       "      <td>NaN</td>\n",
       "      <td>NaN</td>\n",
       "      <td>NaN</td>\n",
       "      <td>NaN</td>\n",
       "      <td>34265214.0</td>\n",
       "      <td>-118520217.0</td>\n",
       "      <td>3423.0</td>\n",
       "      <td>NaN</td>\n",
       "      <td>NaN</td>\n",
       "      <td>NaN</td>\n",
       "      <td>NaN</td>\n",
       "      <td>NaN</td>\n",
       "      <td>1200</td>\n",
       "      <td>47.0</td>\n",
       "      <td>LAC2</td>\n",
       "      <td>6.037111e+07</td>\n",
       "      <td>12447.0</td>\n",
       "      <td>3101.0</td>\n",
       "      <td>31817.0</td>\n",
       "      <td>96370.0</td>\n",
       "      <td>0.0</td>\n",
       "      <td>NaN</td>\n",
       "      <td>NaN</td>\n",
       "      <td>NaN</td>\n",
       "      <td>NaN</td>\n",
       "      <td>NaN</td>\n",
       "      <td>NaN</td>\n",
       "      <td>1958.0</td>\n",
       "      <td>1.0</td>\n",
       "      <td>NaN</td>\n",
       "      <td>245834.0</td>\n",
       "      <td>430208.0</td>\n",
       "      <td>2015.0</td>\n",
       "      <td>184374.0</td>\n",
       "      <td>6014.18</td>\n",
       "      <td>NaN</td>\n",
       "      <td>NaN</td>\n",
       "      <td>NaN</td>\n",
       "    </tr>\n",
       "    <tr>\n",
       "      <th>11</th>\n",
       "      <td>11114347</td>\n",
       "      <td>NaN</td>\n",
       "      <td>NaN</td>\n",
       "      <td>NaN</td>\n",
       "      <td>0.0</td>\n",
       "      <td>0.0</td>\n",
       "      <td>NaN</td>\n",
       "      <td>NaN</td>\n",
       "      <td>NaN</td>\n",
       "      <td>NaN</td>\n",
       "      <td>NaN</td>\n",
       "      <td>NaN</td>\n",
       "      <td>NaN</td>\n",
       "      <td>NaN</td>\n",
       "      <td>NaN</td>\n",
       "      <td>NaN</td>\n",
       "      <td>NaN</td>\n",
       "      <td>6037.0</td>\n",
       "      <td>NaN</td>\n",
       "      <td>NaN</td>\n",
       "      <td>NaN</td>\n",
       "      <td>NaN</td>\n",
       "      <td>NaN</td>\n",
       "      <td>NaN</td>\n",
       "      <td>34447747.0</td>\n",
       "      <td>-118565056.0</td>\n",
       "      <td>81293.0</td>\n",
       "      <td>NaN</td>\n",
       "      <td>NaN</td>\n",
       "      <td>NaN</td>\n",
       "      <td>NaN</td>\n",
       "      <td>NaN</td>\n",
       "      <td>010D</td>\n",
       "      <td>269.0</td>\n",
       "      <td>SCUR3</td>\n",
       "      <td>6.037920e+07</td>\n",
       "      <td>NaN</td>\n",
       "      <td>3101.0</td>\n",
       "      <td>NaN</td>\n",
       "      <td>96377.0</td>\n",
       "      <td>0.0</td>\n",
       "      <td>NaN</td>\n",
       "      <td>NaN</td>\n",
       "      <td>NaN</td>\n",
       "      <td>NaN</td>\n",
       "      <td>NaN</td>\n",
       "      <td>NaN</td>\n",
       "      <td>NaN</td>\n",
       "      <td>NaN</td>\n",
       "      <td>NaN</td>\n",
       "      <td>NaN</td>\n",
       "      <td>9.0</td>\n",
       "      <td>2015.0</td>\n",
       "      <td>9.0</td>\n",
       "      <td>NaN</td>\n",
       "      <td>NaN</td>\n",
       "      <td>NaN</td>\n",
       "      <td>NaN</td>\n",
       "    </tr>\n",
       "    <tr>\n",
       "      <th>12</th>\n",
       "      <td>11116947</td>\n",
       "      <td>NaN</td>\n",
       "      <td>NaN</td>\n",
       "      <td>NaN</td>\n",
       "      <td>0.0</td>\n",
       "      <td>0.0</td>\n",
       "      <td>NaN</td>\n",
       "      <td>NaN</td>\n",
       "      <td>NaN</td>\n",
       "      <td>NaN</td>\n",
       "      <td>NaN</td>\n",
       "      <td>NaN</td>\n",
       "      <td>NaN</td>\n",
       "      <td>NaN</td>\n",
       "      <td>NaN</td>\n",
       "      <td>NaN</td>\n",
       "      <td>NaN</td>\n",
       "      <td>6037.0</td>\n",
       "      <td>NaN</td>\n",
       "      <td>NaN</td>\n",
       "      <td>NaN</td>\n",
       "      <td>NaN</td>\n",
       "      <td>NaN</td>\n",
       "      <td>NaN</td>\n",
       "      <td>34465048.0</td>\n",
       "      <td>-118568166.0</td>\n",
       "      <td>6286.0</td>\n",
       "      <td>NaN</td>\n",
       "      <td>NaN</td>\n",
       "      <td>NaN</td>\n",
       "      <td>NaN</td>\n",
       "      <td>NaN</td>\n",
       "      <td>010D</td>\n",
       "      <td>269.0</td>\n",
       "      <td>LCA25*</td>\n",
       "      <td>6.037920e+07</td>\n",
       "      <td>NaN</td>\n",
       "      <td>3101.0</td>\n",
       "      <td>NaN</td>\n",
       "      <td>96377.0</td>\n",
       "      <td>0.0</td>\n",
       "      <td>NaN</td>\n",
       "      <td>NaN</td>\n",
       "      <td>NaN</td>\n",
       "      <td>NaN</td>\n",
       "      <td>NaN</td>\n",
       "      <td>NaN</td>\n",
       "      <td>NaN</td>\n",
       "      <td>NaN</td>\n",
       "      <td>NaN</td>\n",
       "      <td>NaN</td>\n",
       "      <td>171200.0</td>\n",
       "      <td>2015.0</td>\n",
       "      <td>171200.0</td>\n",
       "      <td>4690.68</td>\n",
       "      <td>NaN</td>\n",
       "      <td>NaN</td>\n",
       "      <td>NaN</td>\n",
       "    </tr>\n",
       "    <tr>\n",
       "      <th>13</th>\n",
       "      <td>11142747</td>\n",
       "      <td>NaN</td>\n",
       "      <td>NaN</td>\n",
       "      <td>NaN</td>\n",
       "      <td>0.0</td>\n",
       "      <td>0.0</td>\n",
       "      <td>NaN</td>\n",
       "      <td>NaN</td>\n",
       "      <td>NaN</td>\n",
       "      <td>NaN</td>\n",
       "      <td>NaN</td>\n",
       "      <td>NaN</td>\n",
       "      <td>NaN</td>\n",
       "      <td>NaN</td>\n",
       "      <td>NaN</td>\n",
       "      <td>NaN</td>\n",
       "      <td>NaN</td>\n",
       "      <td>6037.0</td>\n",
       "      <td>NaN</td>\n",
       "      <td>NaN</td>\n",
       "      <td>NaN</td>\n",
       "      <td>NaN</td>\n",
       "      <td>NaN</td>\n",
       "      <td>NaN</td>\n",
       "      <td>34416889.0</td>\n",
       "      <td>-118505805.0</td>\n",
       "      <td>NaN</td>\n",
       "      <td>NaN</td>\n",
       "      <td>NaN</td>\n",
       "      <td>NaN</td>\n",
       "      <td>NaN</td>\n",
       "      <td>NaN</td>\n",
       "      <td>300V</td>\n",
       "      <td>266.0</td>\n",
       "      <td>SCBP</td>\n",
       "      <td>6.037920e+07</td>\n",
       "      <td>54311.0</td>\n",
       "      <td>3101.0</td>\n",
       "      <td>37739.0</td>\n",
       "      <td>96373.0</td>\n",
       "      <td>0.0</td>\n",
       "      <td>NaN</td>\n",
       "      <td>NaN</td>\n",
       "      <td>NaN</td>\n",
       "      <td>NaN</td>\n",
       "      <td>NaN</td>\n",
       "      <td>NaN</td>\n",
       "      <td>NaN</td>\n",
       "      <td>NaN</td>\n",
       "      <td>NaN</td>\n",
       "      <td>NaN</td>\n",
       "      <td>4265.0</td>\n",
       "      <td>2015.0</td>\n",
       "      <td>4265.0</td>\n",
       "      <td>NaN</td>\n",
       "      <td>NaN</td>\n",
       "      <td>NaN</td>\n",
       "      <td>NaN</td>\n",
       "    </tr>\n",
       "    <tr>\n",
       "      <th>14</th>\n",
       "      <td>11193347</td>\n",
       "      <td>NaN</td>\n",
       "      <td>NaN</td>\n",
       "      <td>NaN</td>\n",
       "      <td>0.0</td>\n",
       "      <td>0.0</td>\n",
       "      <td>NaN</td>\n",
       "      <td>NaN</td>\n",
       "      <td>NaN</td>\n",
       "      <td>NaN</td>\n",
       "      <td>NaN</td>\n",
       "      <td>NaN</td>\n",
       "      <td>NaN</td>\n",
       "      <td>NaN</td>\n",
       "      <td>NaN</td>\n",
       "      <td>NaN</td>\n",
       "      <td>NaN</td>\n",
       "      <td>6037.0</td>\n",
       "      <td>NaN</td>\n",
       "      <td>NaN</td>\n",
       "      <td>NaN</td>\n",
       "      <td>NaN</td>\n",
       "      <td>NaN</td>\n",
       "      <td>NaN</td>\n",
       "      <td>34585014.0</td>\n",
       "      <td>-118162010.0</td>\n",
       "      <td>11975.0</td>\n",
       "      <td>NaN</td>\n",
       "      <td>NaN</td>\n",
       "      <td>NaN</td>\n",
       "      <td>NaN</td>\n",
       "      <td>NaN</td>\n",
       "      <td>0100</td>\n",
       "      <td>261.0</td>\n",
       "      <td>PDA1*</td>\n",
       "      <td>6.037910e+07</td>\n",
       "      <td>40227.0</td>\n",
       "      <td>3101.0</td>\n",
       "      <td>NaN</td>\n",
       "      <td>97329.0</td>\n",
       "      <td>0.0</td>\n",
       "      <td>NaN</td>\n",
       "      <td>NaN</td>\n",
       "      <td>NaN</td>\n",
       "      <td>NaN</td>\n",
       "      <td>NaN</td>\n",
       "      <td>NaN</td>\n",
       "      <td>NaN</td>\n",
       "      <td>NaN</td>\n",
       "      <td>NaN</td>\n",
       "      <td>NaN</td>\n",
       "      <td>10.0</td>\n",
       "      <td>2015.0</td>\n",
       "      <td>10.0</td>\n",
       "      <td>NaN</td>\n",
       "      <td>NaN</td>\n",
       "      <td>NaN</td>\n",
       "      <td>NaN</td>\n",
       "    </tr>\n",
       "  </tbody>\n",
       "</table>\n",
       "</div>"
      ],
      "text/plain": [
       "    parcelid  airconditioningtypeid  architecturalstyletypeid  basementsqft  \\\n",
       "0   10754147                    NaN                       NaN           NaN   \n",
       "1   10759547                    NaN                       NaN           NaN   \n",
       "2   10843547                    NaN                       NaN           NaN   \n",
       "3   10859147                    NaN                       NaN           NaN   \n",
       "4   10879947                    NaN                       NaN           NaN   \n",
       "5   10898347                    NaN                       NaN           NaN   \n",
       "6   10933547                    NaN                       NaN           NaN   \n",
       "7   10940747                    NaN                       NaN           NaN   \n",
       "8   10954547                    NaN                       NaN           NaN   \n",
       "9   10976347                    NaN                       NaN           NaN   \n",
       "10  11073947                    NaN                       NaN           NaN   \n",
       "11  11114347                    NaN                       NaN           NaN   \n",
       "12  11116947                    NaN                       NaN           NaN   \n",
       "13  11142747                    NaN                       NaN           NaN   \n",
       "14  11193347                    NaN                       NaN           NaN   \n",
       "\n",
       "    bathroomcnt  bedroomcnt  buildingclasstypeid  buildingqualitytypeid  \\\n",
       "0           0.0         0.0                  NaN                    NaN   \n",
       "1           0.0         0.0                  NaN                    NaN   \n",
       "2           0.0         0.0                  NaN                    NaN   \n",
       "3           0.0         0.0                  3.0                    7.0   \n",
       "4           0.0         0.0                  4.0                    NaN   \n",
       "5           0.0         0.0                  4.0                    7.0   \n",
       "6           0.0         0.0                  NaN                    NaN   \n",
       "7           0.0         0.0                  NaN                    NaN   \n",
       "8           0.0         0.0                  NaN                    NaN   \n",
       "9           0.0         0.0                  3.0                    7.0   \n",
       "10          0.0         0.0                  4.0                    NaN   \n",
       "11          0.0         0.0                  NaN                    NaN   \n",
       "12          0.0         0.0                  NaN                    NaN   \n",
       "13          0.0         0.0                  NaN                    NaN   \n",
       "14          0.0         0.0                  NaN                    NaN   \n",
       "\n",
       "    calculatedbathnbr  decktypeid  finishedfloor1squarefeet  \\\n",
       "0                 NaN         NaN                       NaN   \n",
       "1                 NaN         NaN                       NaN   \n",
       "2                 NaN         NaN                       NaN   \n",
       "3                 NaN         NaN                       NaN   \n",
       "4                 NaN         NaN                       NaN   \n",
       "5                 NaN         NaN                       NaN   \n",
       "6                 NaN         NaN                       NaN   \n",
       "7                 NaN         NaN                       NaN   \n",
       "8                 NaN         NaN                       NaN   \n",
       "9                 NaN         NaN                       NaN   \n",
       "10                NaN         NaN                       NaN   \n",
       "11                NaN         NaN                       NaN   \n",
       "12                NaN         NaN                       NaN   \n",
       "13                NaN         NaN                       NaN   \n",
       "14                NaN         NaN                       NaN   \n",
       "\n",
       "    calculatedfinishedsquarefeet  finishedsquarefeet12  finishedsquarefeet13  \\\n",
       "0                            NaN                   NaN                   NaN   \n",
       "1                            NaN                   NaN                   NaN   \n",
       "2                        73026.0                   NaN                   NaN   \n",
       "3                         5068.0                   NaN                   NaN   \n",
       "4                         1776.0                   NaN                   NaN   \n",
       "5                         2400.0                   NaN                   NaN   \n",
       "6                            NaN                   NaN                   NaN   \n",
       "7                         3611.0                   NaN                   NaN   \n",
       "8                            NaN                   NaN                   NaN   \n",
       "9                         3754.0                   NaN                   NaN   \n",
       "10                        2470.0                   NaN                   NaN   \n",
       "11                           NaN                   NaN                   NaN   \n",
       "12                           NaN                   NaN                   NaN   \n",
       "13                           NaN                   NaN                   NaN   \n",
       "14                           NaN                   NaN                   NaN   \n",
       "\n",
       "    finishedsquarefeet15  finishedsquarefeet50  finishedsquarefeet6    fips  \\\n",
       "0                    NaN                   NaN                  NaN  6037.0   \n",
       "1                    NaN                   NaN                  NaN  6037.0   \n",
       "2                73026.0                   NaN                  NaN  6037.0   \n",
       "3                 5068.0                   NaN                  NaN  6037.0   \n",
       "4                 1776.0                   NaN                  NaN  6037.0   \n",
       "5                 2400.0                   NaN                  NaN  6037.0   \n",
       "6                    NaN                   NaN                  NaN  6037.0   \n",
       "7                 3611.0                   NaN                  NaN  6037.0   \n",
       "8                    NaN                   NaN                  NaN  6037.0   \n",
       "9                 3754.0                   NaN                  NaN  6037.0   \n",
       "10                2470.0                   NaN                  NaN  6037.0   \n",
       "11                   NaN                   NaN                  NaN  6037.0   \n",
       "12                   NaN                   NaN                  NaN  6037.0   \n",
       "13                   NaN                   NaN                  NaN  6037.0   \n",
       "14                   NaN                   NaN                  NaN  6037.0   \n",
       "\n",
       "    fireplacecnt  fullbathcnt  garagecarcnt  garagetotalsqft hashottuborspa  \\\n",
       "0            NaN          NaN           NaN              NaN            NaN   \n",
       "1            NaN          NaN           NaN              NaN            NaN   \n",
       "2            NaN          NaN           NaN              NaN            NaN   \n",
       "3            NaN          NaN           NaN              NaN            NaN   \n",
       "4            NaN          NaN           NaN              NaN            NaN   \n",
       "5            NaN          NaN           NaN              NaN            NaN   \n",
       "6            NaN          NaN           NaN              NaN            NaN   \n",
       "7            NaN          NaN           NaN              NaN            NaN   \n",
       "8            NaN          NaN           NaN              NaN            NaN   \n",
       "9            NaN          NaN           NaN              NaN            NaN   \n",
       "10           NaN          NaN           NaN              NaN            NaN   \n",
       "11           NaN          NaN           NaN              NaN            NaN   \n",
       "12           NaN          NaN           NaN              NaN            NaN   \n",
       "13           NaN          NaN           NaN              NaN            NaN   \n",
       "14           NaN          NaN           NaN              NaN            NaN   \n",
       "\n",
       "    heatingorsystemtypeid    latitude    longitude  lotsizesquarefeet  \\\n",
       "0                     NaN  34144442.0 -118654084.0            85768.0   \n",
       "1                     NaN  34140430.0 -118625364.0             4083.0   \n",
       "2                     NaN  33989359.0 -118394633.0            63085.0   \n",
       "3                     NaN  34148863.0 -118437206.0             7521.0   \n",
       "4                     NaN  34194168.0 -118385816.0             8512.0   \n",
       "5                     NaN  34171873.0 -118380906.0             2500.0   \n",
       "6                     NaN  34131929.0 -118351474.0                NaN   \n",
       "7                     NaN  34171345.0 -118314900.0             5333.0   \n",
       "8                     NaN  34218210.0 -118331311.0           145865.0   \n",
       "9                     NaN  34289776.0 -118432085.0             7494.0   \n",
       "10                    NaN  34265214.0 -118520217.0             3423.0   \n",
       "11                    NaN  34447747.0 -118565056.0            81293.0   \n",
       "12                    NaN  34465048.0 -118568166.0             6286.0   \n",
       "13                    NaN  34416889.0 -118505805.0                NaN   \n",
       "14                    NaN  34585014.0 -118162010.0            11975.0   \n",
       "\n",
       "    poolcnt  poolsizesum  pooltypeid10  pooltypeid2  pooltypeid7  \\\n",
       "0       NaN          NaN           NaN          NaN          NaN   \n",
       "1       NaN          NaN           NaN          NaN          NaN   \n",
       "2       NaN          NaN           NaN          NaN          NaN   \n",
       "3       NaN          NaN           NaN          NaN          NaN   \n",
       "4       NaN          NaN           NaN          NaN          NaN   \n",
       "5       NaN          NaN           NaN          NaN          NaN   \n",
       "6       NaN          NaN           NaN          NaN          NaN   \n",
       "7       NaN          NaN           NaN          NaN          NaN   \n",
       "8       NaN          NaN           NaN          NaN          NaN   \n",
       "9       NaN          NaN           NaN          NaN          NaN   \n",
       "10      NaN          NaN           NaN          NaN          NaN   \n",
       "11      NaN          NaN           NaN          NaN          NaN   \n",
       "12      NaN          NaN           NaN          NaN          NaN   \n",
       "13      NaN          NaN           NaN          NaN          NaN   \n",
       "14      NaN          NaN           NaN          NaN          NaN   \n",
       "\n",
       "   propertycountylandusecode  propertylandusetypeid propertyzoningdesc  \\\n",
       "0                       010D                  269.0                NaN   \n",
       "1                       0109                  261.0             LCA11*   \n",
       "2                       1200                   47.0               LAC2   \n",
       "3                       1200                   47.0               LAC2   \n",
       "4                       1210                   31.0               LAM1   \n",
       "5                       1210                   31.0               LAC4   \n",
       "6                       010V                  260.0               LAC2   \n",
       "7                       1210                   31.0             BUC4YY   \n",
       "8                       010D                  269.0              BUR1*   \n",
       "9                       1210                   31.0              SFC2*   \n",
       "10                      1200                   47.0               LAC2   \n",
       "11                      010D                  269.0              SCUR3   \n",
       "12                      010D                  269.0             LCA25*   \n",
       "13                      300V                  266.0               SCBP   \n",
       "14                      0100                  261.0              PDA1*   \n",
       "\n",
       "    rawcensustractandblock  regionidcity  regionidcounty  \\\n",
       "0             6.037800e+07       37688.0          3101.0   \n",
       "1             6.037800e+07       37688.0          3101.0   \n",
       "2             6.037703e+07       51617.0          3101.0   \n",
       "3             6.037141e+07       12447.0          3101.0   \n",
       "4             6.037123e+07       12447.0          3101.0   \n",
       "5             6.037125e+07       12447.0          3101.0   \n",
       "6             6.037144e+07       12447.0          3101.0   \n",
       "7             6.037311e+07      396054.0          3101.0   \n",
       "8             6.037310e+07      396054.0          3101.0   \n",
       "9             6.037320e+07       47547.0          3101.0   \n",
       "10            6.037111e+07       12447.0          3101.0   \n",
       "11            6.037920e+07           NaN          3101.0   \n",
       "12            6.037920e+07           NaN          3101.0   \n",
       "13            6.037920e+07       54311.0          3101.0   \n",
       "14            6.037910e+07       40227.0          3101.0   \n",
       "\n",
       "    regionidneighborhood  regionidzip  roomcnt  storytypeid  \\\n",
       "0                    NaN      96337.0      0.0          NaN   \n",
       "1                    NaN      96337.0      0.0          NaN   \n",
       "2                    NaN      96095.0      0.0          NaN   \n",
       "3                27080.0      96424.0      0.0          NaN   \n",
       "4                46795.0      96450.0      0.0          NaN   \n",
       "5                46795.0      96446.0      0.0          NaN   \n",
       "6               274049.0      96049.0      0.0          NaN   \n",
       "7                    NaN      96434.0      0.0          NaN   \n",
       "8                    NaN      96436.0      0.0          NaN   \n",
       "9                    NaN      96366.0      0.0          NaN   \n",
       "10               31817.0      96370.0      0.0          NaN   \n",
       "11                   NaN      96377.0      0.0          NaN   \n",
       "12                   NaN      96377.0      0.0          NaN   \n",
       "13               37739.0      96373.0      0.0          NaN   \n",
       "14                   NaN      97329.0      0.0          NaN   \n",
       "\n",
       "    threequarterbathnbr  typeconstructiontypeid  unitcnt  yardbuildingsqft17  \\\n",
       "0                   NaN                     NaN      NaN                 NaN   \n",
       "1                   NaN                     NaN      NaN                 NaN   \n",
       "2                   NaN                     NaN      2.0                 NaN   \n",
       "3                   NaN                     NaN      NaN                 NaN   \n",
       "4                   NaN                     NaN      1.0                 NaN   \n",
       "5                   NaN                     NaN      NaN                 NaN   \n",
       "6                   NaN                     NaN      NaN                 NaN   \n",
       "7                   NaN                     NaN      NaN                 NaN   \n",
       "8                   NaN                     NaN      NaN                 NaN   \n",
       "9                   NaN                     NaN      NaN                 NaN   \n",
       "10                  NaN                     NaN      NaN                 NaN   \n",
       "11                  NaN                     NaN      NaN                 NaN   \n",
       "12                  NaN                     NaN      NaN                 NaN   \n",
       "13                  NaN                     NaN      NaN                 NaN   \n",
       "14                  NaN                     NaN      NaN                 NaN   \n",
       "\n",
       "    yardbuildingsqft26  yearbuilt  numberofstories fireplaceflag  \\\n",
       "0                  NaN        NaN              NaN           NaN   \n",
       "1                  NaN        NaN              NaN           NaN   \n",
       "2                  NaN        NaN              NaN           NaN   \n",
       "3                  NaN     1948.0              1.0           NaN   \n",
       "4                  NaN     1947.0              NaN           NaN   \n",
       "5                  NaN     1943.0              1.0           NaN   \n",
       "6                  NaN        NaN              NaN           NaN   \n",
       "7                  NaN     1946.0              1.0           NaN   \n",
       "8                  NaN        NaN              NaN           NaN   \n",
       "9                  NaN     1978.0              1.0           NaN   \n",
       "10                 NaN     1958.0              1.0           NaN   \n",
       "11                 NaN        NaN              NaN           NaN   \n",
       "12                 NaN        NaN              NaN           NaN   \n",
       "13                 NaN        NaN              NaN           NaN   \n",
       "14                 NaN        NaN              NaN           NaN   \n",
       "\n",
       "    structuretaxvaluedollarcnt  taxvaluedollarcnt  assessmentyear  \\\n",
       "0                          NaN                9.0          2015.0   \n",
       "1                          NaN            27516.0          2015.0   \n",
       "2                     650756.0          1413387.0          2015.0   \n",
       "3                     571346.0          1156834.0          2015.0   \n",
       "4                     193796.0           433491.0          2015.0   \n",
       "5                     176383.0           283315.0          2015.0   \n",
       "6                     397945.0           554573.0          2015.0   \n",
       "7                     101998.0           688486.0          2015.0   \n",
       "8                          NaN                9.0          2015.0   \n",
       "9                     218440.0           261201.0          2015.0   \n",
       "10                    245834.0           430208.0          2015.0   \n",
       "11                         NaN                9.0          2015.0   \n",
       "12                         NaN           171200.0          2015.0   \n",
       "13                         NaN             4265.0          2015.0   \n",
       "14                         NaN               10.0          2015.0   \n",
       "\n",
       "    landtaxvaluedollarcnt  taxamount taxdelinquencyflag  taxdelinquencyyear  \\\n",
       "0                     9.0        NaN                NaN                 NaN   \n",
       "1                 27516.0        NaN                NaN                 NaN   \n",
       "2                762631.0   20800.37                NaN                 NaN   \n",
       "3                585488.0   14557.57                NaN                 NaN   \n",
       "4                239695.0    5725.17                NaN                 NaN   \n",
       "5                106932.0    3661.28                NaN                 NaN   \n",
       "6                156628.0    6773.34                NaN                 NaN   \n",
       "7                586488.0    7857.84                NaN                 NaN   \n",
       "8                     9.0        NaN                NaN                 NaN   \n",
       "9                 42761.0    4054.76                NaN                 NaN   \n",
       "10               184374.0    6014.18                NaN                 NaN   \n",
       "11                    9.0        NaN                NaN                 NaN   \n",
       "12               171200.0    4690.68                NaN                 NaN   \n",
       "13                 4265.0        NaN                NaN                 NaN   \n",
       "14                   10.0        NaN                NaN                 NaN   \n",
       "\n",
       "    censustractandblock  \n",
       "0                   NaN  \n",
       "1                   NaN  \n",
       "2                   NaN  \n",
       "3                   NaN  \n",
       "4                   NaN  \n",
       "5                   NaN  \n",
       "6                   NaN  \n",
       "7                   NaN  \n",
       "8                   NaN  \n",
       "9                   NaN  \n",
       "10                  NaN  \n",
       "11                  NaN  \n",
       "12                  NaN  \n",
       "13                  NaN  \n",
       "14                  NaN  "
      ]
     },
     "execution_count": 4,
     "metadata": {},
     "output_type": "execute_result"
    }
   ],
   "source": [
    "# Using training data set since the properties datasets are HUGE\n",
    "zillow_df = pd.read_csv('data/zillow/properties_2016_small.csv')\n",
    "\n",
    "#Set true target\n",
    "TRUE_TARGET = 'taxvaluedollarcnt'\n",
    "\n",
    "# Check the data\n",
    "zillow_df.head(15)\n"
   ]
  },
  {
   "cell_type": "code",
   "execution_count": 5,
   "metadata": {
    "colab": {
     "base_uri": "https://localhost:8080/"
    },
    "executionInfo": {
     "elapsed": 9,
     "status": "ok",
     "timestamp": 1669531607375,
     "user": {
      "displayName": "Hok Wang",
      "userId": "02122581822260904525"
     },
     "user_tz": 360
    },
    "id": "Wamm3O64nM9T",
    "outputId": "af815458-dbc3-413b-8428-4d077578a11e"
   },
   "outputs": [
    {
     "name": "stdout",
     "output_type": "stream",
     "text": [
      "<class 'pandas.core.frame.DataFrame'>\n",
      "RangeIndex: 50000 entries, 0 to 49999\n",
      "Data columns (total 58 columns):\n",
      " #   Column                        Non-Null Count  Dtype  \n",
      "---  ------                        --------------  -----  \n",
      " 0   parcelid                      50000 non-null  int64  \n",
      " 1   airconditioningtypeid         13956 non-null  float64\n",
      " 2   architecturalstyletypeid      98 non-null     float64\n",
      " 3   basementsqft                  30 non-null     float64\n",
      " 4   bathroomcnt                   50000 non-null  float64\n",
      " 5   bedroomcnt                    50000 non-null  float64\n",
      " 6   buildingclasstypeid           253 non-null    float64\n",
      " 7   buildingqualitytypeid         33170 non-null  float64\n",
      " 8   calculatedbathnbr             47845 non-null  float64\n",
      " 9   decktypeid                    330 non-null    float64\n",
      " 10  finishedfloor1squarefeet      3913 non-null   float64\n",
      " 11  calculatedfinishedsquarefeet  49271 non-null  float64\n",
      " 12  finishedsquarefeet12          45559 non-null  float64\n",
      " 13  finishedsquarefeet13          158 non-null    float64\n",
      " 14  finishedsquarefeet15          3226 non-null   float64\n",
      " 15  finishedsquarefeet50          3913 non-null   float64\n",
      " 16  finishedsquarefeet6           328 non-null    float64\n",
      " 17  fips                          50000 non-null  float64\n",
      " 18  fireplacecnt                  5322 non-null   float64\n",
      " 19  fullbathcnt                   47845 non-null  float64\n",
      " 20  garagecarcnt                  14181 non-null  float64\n",
      " 21  garagetotalsqft               14181 non-null  float64\n",
      " 22  hashottuborspa                1082 non-null   object \n",
      " 23  heatingorsystemtypeid         30821 non-null  float64\n",
      " 24  latitude                      50000 non-null  float64\n",
      " 25  longitude                     50000 non-null  float64\n",
      " 26  lotsizesquarefeet             45702 non-null  float64\n",
      " 27  poolcnt                       8930 non-null   float64\n",
      " 28  poolsizesum                   500 non-null    float64\n",
      " 29  pooltypeid10                  579 non-null    float64\n",
      " 30  pooltypeid2                   503 non-null    float64\n",
      " 31  pooltypeid7                   8427 non-null   float64\n",
      " 32  propertycountylandusecode     49985 non-null  object \n",
      " 33  propertylandusetypeid         50000 non-null  float64\n",
      " 34  propertyzoningdesc            33867 non-null  object \n",
      " 35  rawcensustractandblock        50000 non-null  float64\n",
      " 36  regionidcity                  49193 non-null  float64\n",
      " 37  regionidcounty                50000 non-null  float64\n",
      " 38  regionidneighborhood          20124 non-null  float64\n",
      " 39  regionidzip                   49962 non-null  float64\n",
      " 40  roomcnt                       49999 non-null  float64\n",
      " 41  storytypeid                   30 non-null     float64\n",
      " 42  threequarterbathnbr           4943 non-null   float64\n",
      " 43  typeconstructiontypeid        102 non-null    float64\n",
      " 44  unitcnt                       33814 non-null  float64\n",
      " 45  yardbuildingsqft17            1590 non-null   float64\n",
      " 46  yardbuildingsqft26            48 non-null     float64\n",
      " 47  yearbuilt                     49185 non-null  float64\n",
      " 48  numberofstories               11157 non-null  float64\n",
      " 49  fireplaceflag                 79 non-null     object \n",
      " 50  structuretaxvaluedollarcnt    49140 non-null  float64\n",
      " 51  taxvaluedollarcnt             49383 non-null  float64\n",
      " 52  assessmentyear                50000 non-null  float64\n",
      " 53  landtaxvaluedollarcnt         48975 non-null  float64\n",
      " 54  taxamount                     49662 non-null  float64\n",
      " 55  taxdelinquencyflag            982 non-null    object \n",
      " 56  taxdelinquencyyear            982 non-null    float64\n",
      " 57  censustractandblock           48746 non-null  float64\n",
      "dtypes: float64(52), int64(1), object(5)\n",
      "memory usage: 22.1+ MB\n"
     ]
    }
   ],
   "source": [
    "zillow_df.info()"
   ]
  },
  {
   "cell_type": "code",
   "execution_count": 6,
   "metadata": {
    "colab": {
     "base_uri": "https://localhost:8080/"
    },
    "executionInfo": {
     "elapsed": 220,
     "status": "ok",
     "timestamp": 1669531607591,
     "user": {
      "displayName": "Hok Wang",
      "userId": "02122581822260904525"
     },
     "user_tz": 360
    },
    "id": "DLJE_rYnq7sh",
    "outputId": "34971eb1-4e07-434f-e42d-8fce423d8437",
    "scrolled": true
   },
   "outputs": [
    {
     "name": "stdout",
     "output_type": "stream",
     "text": [
      "\n",
      "Column Name: hashottuborspa\n",
      "True    1082\n",
      "Name: hashottuborspa, dtype: int64\n",
      "\n",
      "Column Name: propertycountylandusecode\n",
      "0100    19608\n",
      "122      7862\n",
      "0101     4447\n",
      "010C     3876\n",
      "1111     2440\n",
      "        ...  \n",
      "0141        1\n",
      "0401        1\n",
      "020M        1\n",
      "0102        1\n",
      "0131        1\n",
      "Name: propertycountylandusecode, Length: 99, dtype: int64\n",
      "\n",
      "Column Name: propertyzoningdesc\n",
      "LAR1          5090\n",
      "LAR3          1190\n",
      "LARS          1045\n",
      "LAR2           858\n",
      "LBR1N          780\n",
      "              ... \n",
      "SPR3A10000       1\n",
      "SPR1-R3*         1\n",
      "SPR2A1OOOO       1\n",
      "SOR1YY           1\n",
      "SLC1*            1\n",
      "Name: propertyzoningdesc, Length: 1773, dtype: int64\n",
      "\n",
      "Column Name: fireplaceflag\n",
      "True    79\n",
      "Name: fireplaceflag, dtype: int64\n",
      "\n",
      "Column Name: taxdelinquencyflag\n",
      "Y    982\n",
      "Name: taxdelinquencyflag, dtype: int64\n"
     ]
    }
   ],
   "source": [
    "# Print the value counts for categorical columns\n",
    "for col in zillow_df.columns:\n",
    "    if zillow_df[col].dtype == 'object':\n",
    "        print('\\nColumn Name:', col,)\n",
    "        print(zillow_df[col].value_counts())"
   ]
  },
  {
   "cell_type": "markdown",
   "metadata": {
    "id": "IHKt2ydQrVgS"
   },
   "source": [
    "### Drop all categorical data "
   ]
  },
  {
   "cell_type": "code",
   "execution_count": 7,
   "metadata": {
    "executionInfo": {
     "elapsed": 1,
     "status": "ok",
     "timestamp": 1669531607591,
     "user": {
      "displayName": "Hok Wang",
      "userId": "02122581822260904525"
     },
     "user_tz": 360
    },
    "id": "B5a4mwL_rE_D"
   },
   "outputs": [],
   "source": [
    "# Select the categorical columns\n",
    "cat_cols = zillow_df.select_dtypes(include='object').columns\n",
    "\n",
    "# Drop the columns\n",
    "zillow_df = zillow_df.drop(columns=cat_cols)"
   ]
  },
  {
   "cell_type": "markdown",
   "metadata": {
    "id": "Pl5DeqkArfcA"
   },
   "source": [
    "### Calculate correlation coefficients against target column"
   ]
  },
  {
   "cell_type": "code",
   "execution_count": 8,
   "metadata": {
    "colab": {
     "base_uri": "https://localhost:8080/"
    },
    "executionInfo": {
     "elapsed": 293,
     "status": "ok",
     "timestamp": 1669531607883,
     "user": {
      "displayName": "Hok Wang",
      "userId": "02122581822260904525"
     },
     "user_tz": 360
    },
    "id": "mI_FMjWVrbYB",
    "outputId": "ee9d9eb5-05ce-4c8c-b0cc-f3575b7e4a83"
   },
   "outputs": [
    {
     "data": {
      "text/plain": [
       "taxvaluedollarcnt               1.000000\n",
       "taxamount                       0.963647\n",
       "landtaxvaluedollarcnt           0.847662\n",
       "structuretaxvaluedollarcnt      0.834219\n",
       "finishedsquarefeet15            0.658055\n",
       "finishedsquarefeet12            0.636250\n",
       "finishedfloor1squarefeet        0.574428\n",
       "finishedsquarefeet50            0.565945\n",
       "poolsizesum                     0.520322\n",
       "calculatedfinishedsquarefeet    0.509469\n",
       "calculatedbathnbr               0.495457\n",
       "fullbathcnt                     0.481303\n",
       "basementsqft                    0.465104\n",
       "fireplacecnt                    0.454990\n",
       "garagecarcnt                    0.369250\n",
       "bathroomcnt                     0.360499\n",
       "garagetotalsqft                 0.356908\n",
       "threequarterbathnbr             0.348244\n",
       "yardbuildingsqft17              0.289622\n",
       "unitcnt                         0.197026\n",
       "finishedsquarefeet6             0.178706\n",
       "numberofstories                 0.175817\n",
       "bedroomcnt                      0.161504\n",
       "finishedsquarefeet13            0.158479\n",
       "yearbuilt                       0.156499\n",
       "taxdelinquencyyear              0.072542\n",
       "architecturalstyletypeid        0.041456\n",
       "regionidneighborhood            0.035517\n",
       "lotsizesquarefeet               0.020386\n",
       "airconditioningtypeid           0.019159\n",
       "parcelid                        0.012727\n",
       "regionidzip                     0.008434\n",
       "roomcnt                         0.001585\n",
       "censustractandblock            -0.000894\n",
       "fips                           -0.003708\n",
       "rawcensustractandblock         -0.004002\n",
       "assessmentyear                 -0.010267\n",
       "regionidcity                   -0.016977\n",
       "longitude                      -0.018925\n",
       "regionidcounty                 -0.031381\n",
       "propertylandusetypeid          -0.064941\n",
       "buildingqualitytypeid          -0.075414\n",
       "latitude                       -0.075468\n",
       "heatingorsystemtypeid          -0.149746\n",
       "buildingclasstypeid            -0.223597\n",
       "yardbuildingsqft26             -0.246918\n",
       "decktypeid                           NaN\n",
       "poolcnt                              NaN\n",
       "pooltypeid10                         NaN\n",
       "pooltypeid2                          NaN\n",
       "pooltypeid7                          NaN\n",
       "storytypeid                          NaN\n",
       "typeconstructiontypeid               NaN\n",
       "Name: taxvaluedollarcnt, dtype: float64"
      ]
     },
     "execution_count": 8,
     "metadata": {},
     "output_type": "execute_result"
    }
   ],
   "source": [
    "correlation_array = zillow_df.corr()[TRUE_TARGET].sort_values(ascending=False)\n",
    "correlation_array"
   ]
  },
  {
   "cell_type": "code",
   "execution_count": 9,
   "metadata": {
    "executionInfo": {
     "elapsed": 3,
     "status": "ok",
     "timestamp": 1669531607884,
     "user": {
      "displayName": "Hok Wang",
      "userId": "02122581822260904525"
     },
     "user_tz": 360
    },
    "id": "4JkzLG-_rvZi"
   },
   "outputs": [],
   "source": [
    "CORR_THRESHOLD = 0.2"
   ]
  },
  {
   "cell_type": "markdown",
   "metadata": {
    "id": "QqZuQpwtrzGV"
   },
   "source": [
    "### Drop redudant features"
   ]
  },
  {
   "cell_type": "code",
   "execution_count": 10,
   "metadata": {
    "executionInfo": {
     "elapsed": 3,
     "status": "ok",
     "timestamp": 1669531607884,
     "user": {
      "displayName": "Hok Wang",
      "userId": "02122581822260904525"
     },
     "user_tz": 360
    },
    "id": "fRWJp4JYrhg4"
   },
   "outputs": [],
   "source": [
    "PERFECT_COR = ['taxamount', 'structuretaxvaluedollarcnt', 'landtaxvaluedollarcnt']\n",
    "\n",
    "# Only keep colms that have correlation coeff greater than CORR_THRESHOLD\n",
    "colms_to_keep = correlation_array[correlation_array > CORR_THRESHOLD]\n",
    "# Only keep the best correlated columns\n",
    "parsed_zillow_df = zillow_df[colms_to_keep.index]\n",
    "\n",
    "# Drop perfect correlations\n",
    "parsed_zillow_df = parsed_zillow_df.drop(columns=PERFECT_COR)"
   ]
  },
  {
   "cell_type": "markdown",
   "metadata": {
    "id": "HoaGUeGVsAsI"
   },
   "source": [
    "### Number of NAN values in target column"
   ]
  },
  {
   "cell_type": "code",
   "execution_count": 11,
   "metadata": {
    "colab": {
     "base_uri": "https://localhost:8080/"
    },
    "executionInfo": {
     "elapsed": 147,
     "status": "ok",
     "timestamp": 1669531608028,
     "user": {
      "displayName": "Hok Wang",
      "userId": "02122581822260904525"
     },
     "user_tz": 360
    },
    "id": "Ikjfpug2ruF-",
    "outputId": "5b38bbd9-57db-4453-b295-e5518d685311"
   },
   "outputs": [
    {
     "name": "stdout",
     "output_type": "stream",
     "text": [
      "Number of NANs in target column is:  617\n"
     ]
    }
   ],
   "source": [
    "# Number of NANs in target column\n",
    "num_nan = parsed_zillow_df[TRUE_TARGET].isna().sum()\n",
    "print('Number of NANs in target column is: ', num_nan)"
   ]
  },
  {
   "cell_type": "markdown",
   "metadata": {
    "id": "FN7_o3_SsGSZ"
   },
   "source": [
    "### Drop rows with NAN values in target column"
   ]
  },
  {
   "cell_type": "code",
   "execution_count": 12,
   "metadata": {
    "colab": {
     "base_uri": "https://localhost:8080/"
    },
    "executionInfo": {
     "elapsed": 7,
     "status": "ok",
     "timestamp": 1669531608028,
     "user": {
      "displayName": "Hok Wang",
      "userId": "02122581822260904525"
     },
     "user_tz": 360
    },
    "id": "OJLbN1KCsC08",
    "outputId": "076c70d7-3ee9-4b28-a8ad-396007f4025d"
   },
   "outputs": [
    {
     "name": "stdout",
     "output_type": "stream",
     "text": [
      "Shape of data after dropping NAN values in target column:  (49383, 16)\n"
     ]
    }
   ],
   "source": [
    "# Drop rows with NAN in target column\n",
    "parsed_zillow_df = parsed_zillow_df.dropna(subset=[TRUE_TARGET], how='any')\n",
    "# Shuffle data\n",
    "parsed_zillow_df = parsed_zillow_df.sample(frac=1)\n",
    "print('Shape of data after dropping NAN values in target column: ', parsed_zillow_df.shape)"
   ]
  },
  {
   "cell_type": "markdown",
   "metadata": {
    "id": "KYut7nA9smWx"
   },
   "source": [
    "### Generate correlation map for missing values in feature matrix"
   ]
  },
  {
   "cell_type": "code",
   "execution_count": 13,
   "metadata": {
    "executionInfo": {
     "elapsed": 5,
     "status": "ok",
     "timestamp": 1669531608029,
     "user": {
      "displayName": "Hok Wang",
      "userId": "02122581822260904525"
     },
     "user_tz": 360
    },
    "id": "rth4omjxsptJ"
   },
   "outputs": [],
   "source": [
    "# Function to plot correlation for variables with NAN values\n",
    "def correlationMatrix(df, dropDuplicates = True):\n",
    "    \"\"\"Plot correlation matrix\"\"\"\n",
    "    # Calculate correlation\n",
    "    df_corr = df.corr()\n",
    "\n",
    "    # Exclude duplicate correlations by masking uper right values\n",
    "    if dropDuplicates:    \n",
    "        mask = np.zeros_like(df_corr, dtype=np.bool)\n",
    "        mask[np.triu_indices_from(mask)] = True\n",
    "\n",
    "    # Set background color / chart style\n",
    "    sns.set_style(style = 'white')\n",
    "\n",
    "    # Set up  matplotlib figure\n",
    "    f, ax = plt.subplots(figsize=(15, 12))\n",
    "\n",
    "    # Add diverging colormap from red to blue\n",
    "    cmap = sns.diverging_palette(250, 10, as_cmap=True)\n",
    "\n",
    "    # Draw correlation plot with or without duplicates\n",
    "    if dropDuplicates:\n",
    "        sns.heatmap(df_corr, mask=mask, cmap=cmap, \n",
    "                square=True,\n",
    "                linewidth=.5, cbar_kws={\"shrink\": .5}, ax=ax)\n",
    "    else:\n",
    "        sns.heatmap(df_corr, cmap=cmap, \n",
    "                square=True,\n",
    "                linewidth=.5, cbar_kws={\"shrink\": .5}, ax=ax)"
   ]
  },
  {
   "cell_type": "markdown",
   "metadata": {
    "id": "c-Ob1az5sdf7"
   },
   "source": [
    "### Create feature and target matrix"
   ]
  },
  {
   "cell_type": "code",
   "execution_count": 14,
   "metadata": {
    "colab": {
     "base_uri": "https://localhost:8080/"
    },
    "executionInfo": {
     "elapsed": 128,
     "status": "ok",
     "timestamp": 1669531608153,
     "user": {
      "displayName": "Hok Wang",
      "userId": "02122581822260904525"
     },
     "user_tz": 360
    },
    "id": "x26qSA47sIcU",
    "outputId": "d8e0826c-d67a-481c-f412-e9f8ece0bdab"
   },
   "outputs": [
    {
     "name": "stdout",
     "output_type": "stream",
     "text": [
      "Shape of feature matrix:  (49383, 15)\n",
      "Shape of target matrix:  (49383,)\n"
     ]
    }
   ],
   "source": [
    "# Extract target\n",
    "target = parsed_zillow_df[TRUE_TARGET]\n",
    "\n",
    "# Extract features\n",
    "X_original = parsed_zillow_df.drop(columns=[TRUE_TARGET])\n",
    "\n",
    "# Columns to be used for pair plots\n",
    "FEATURE_COLUMNS = X_original.columns.to_numpy()\n",
    "\n",
    "# Check the structure of the data\n",
    "print('Shape of feature matrix: ', X_original.shape)\n",
    "print('Shape of target matrix: ', target.shape)"
   ]
  },
  {
   "cell_type": "code",
   "execution_count": 15,
   "metadata": {
    "executionInfo": {
     "elapsed": 3,
     "status": "ok",
     "timestamp": 1669531608153,
     "user": {
      "displayName": "Hok Wang",
      "userId": "02122581822260904525"
     },
     "user_tz": 360
    },
    "id": "W1bbZ3NPs1yx"
   },
   "outputs": [],
   "source": [
    "# Columns of rows with NAN values\n",
    "nan_values = X_original.isna()\n",
    "nan_columns = nan_values.any()\n",
    "\n",
    "# Dataframe with columns that have got NAN values\n",
    "X_original_nan = X_original[(nan_columns[nan_columns == True]).index]"
   ]
  },
  {
   "cell_type": "code",
   "execution_count": 16,
   "metadata": {
    "colab": {
     "base_uri": "https://localhost:8080/"
    },
    "executionInfo": {
     "elapsed": 2,
     "status": "ok",
     "timestamp": 1669531608153,
     "user": {
      "displayName": "Hok Wang",
      "userId": "02122581822260904525"
     },
     "user_tz": 360
    },
    "id": "TkJ_790us_Jh",
    "outputId": "be971ad0-ab3b-482f-d0b4-4f40e20e1a56"
   },
   "outputs": [
    {
     "data": {
      "text/plain": [
       "(49383, 14)"
      ]
     },
     "execution_count": 16,
     "metadata": {},
     "output_type": "execute_result"
    }
   ],
   "source": [
    "X_original_nan.shape"
   ]
  },
  {
   "cell_type": "code",
   "execution_count": 17,
   "metadata": {
    "colab": {
     "base_uri": "https://localhost:8080/",
     "height": 910
    },
    "executionInfo": {
     "elapsed": 1207,
     "status": "ok",
     "timestamp": 1669531609358,
     "user": {
      "displayName": "Hok Wang",
      "userId": "02122581822260904525"
     },
     "user_tz": 360
    },
    "id": "m8BYceKTtAd4",
    "outputId": "e6e8e03a-3e9c-4fc8-d8ae-72d06c16ea0f"
   },
   "outputs": [
    {
     "name": "stderr",
     "output_type": "stream",
     "text": [
      "C:\\Users\\Hok Wang\\AppData\\Local\\Temp\\ipykernel_6432\\4091822552.py:9: DeprecationWarning: `np.bool` is a deprecated alias for the builtin `bool`. To silence this warning, use `bool` by itself. Doing this will not modify any behavior and is safe. If you specifically wanted the numpy scalar type, use `np.bool_` here.\n",
      "Deprecated in NumPy 1.20; for more details and guidance: https://numpy.org/devdocs/release/1.20.0-notes.html#deprecations\n",
      "  mask = np.zeros_like(df_corr, dtype=np.bool)\n"
     ]
    },
    {
     "data": {
      "image/png": "[encoded data removed]",
      "text/plain": [
       "<Figure size 1500x1200 with 2 Axes>"
      ]
     },
     "metadata": {},
     "output_type": "display_data"
    }
   ],
   "source": [
    "# Plot the correlation matrix for the variables containing NAN values\n",
    "# This will help us determine the variables whose covariance is likely to be affected after\n",
    "# imputation and also which varibales can be used together when imputing\n",
    "correlationMatrix(X_original_nan, dropDuplicates = True)"
   ]
  },
  {
   "cell_type": "code",
   "execution_count": 18,
   "metadata": {
    "colab": {
     "base_uri": "https://localhost:8080/",
     "height": 897
    },
    "executionInfo": {
     "elapsed": 968,
     "status": "ok",
     "timestamp": 1669531610325,
     "user": {
      "displayName": "Hok Wang",
      "userId": "02122581822260904525"
     },
     "user_tz": 360
    },
    "id": "bjo1c0xNtHir",
    "outputId": "90c33211-12cf-4640-f414-ec0f6d169a69"
   },
   "outputs": [
    {
     "name": "stderr",
     "output_type": "stream",
     "text": [
      "C:\\Users\\Hok Wang\\AppData\\Local\\Temp\\ipykernel_6432\\4091822552.py:9: DeprecationWarning: `np.bool` is a deprecated alias for the builtin `bool`. To silence this warning, use `bool` by itself. Doing this will not modify any behavior and is safe. If you specifically wanted the numpy scalar type, use `np.bool_` here.\n",
      "Deprecated in NumPy 1.20; for more details and guidance: https://numpy.org/devdocs/release/1.20.0-notes.html#deprecations\n",
      "  mask = np.zeros_like(df_corr, dtype=np.bool)\n"
     ]
    },
    {
     "data": {
      "image/png": "[encoded data removed]",
      "text/plain": [
       "<Figure size 1500x1200 with 2 Axes>"
      ]
     },
     "metadata": {},
     "output_type": "display_data"
    }
   ],
   "source": [
    "correlationMatrix(X_original[X_original.columns.difference(['calculatedfinishedsquarefeet'])], dropDuplicates = True)"
   ]
  },
  {
   "cell_type": "code",
   "execution_count": 19,
   "metadata": {
    "executionInfo": {
     "elapsed": 3,
     "status": "ok",
     "timestamp": 1669531610325,
     "user": {
      "displayName": "Hok Wang",
      "userId": "02122581822260904525"
     },
     "user_tz": 360
    },
    "id": "GVzMi7stubqH"
   },
   "outputs": [],
   "source": [
    "X_original = X_original.drop(columns=['calculatedfinishedsquarefeet', 'finishedsquarefeet50'])"
   ]
  },
  {
   "cell_type": "code",
   "execution_count": 20,
   "metadata": {
    "colab": {
     "base_uri": "https://localhost:8080/"
    },
    "executionInfo": {
     "elapsed": 3,
     "status": "ok",
     "timestamp": 1669531610325,
     "user": {
      "displayName": "Hok Wang",
      "userId": "02122581822260904525"
     },
     "user_tz": 360
    },
    "id": "N1W2PFF9v7X2",
    "outputId": "2e8f1d4a-dd68-4fe8-ced7-58b9bc8cbff9"
   },
   "outputs": [
    {
     "data": {
      "text/plain": [
       "(49383, 13)"
      ]
     },
     "execution_count": 20,
     "metadata": {},
     "output_type": "execute_result"
    }
   ],
   "source": [
    "X_original.shape"
   ]
  },
  {
   "cell_type": "markdown",
   "metadata": {
    "id": "3roEY39bwY9w"
   },
   "source": [
    "# Multivariate Imputation on Zillow Data\n",
    "Before getting into using various models to perform imputation, we prform mean imputation to create a base for comparison for our models. We then use the state of the art MICE imputation and finally we perform imputation using the various chosen models. "
   ]
  },
  {
   "cell_type": "markdown",
   "metadata": {
    "id": "hp1jL5WUwbaM"
   },
   "source": [
    "## Mean Imputation "
   ]
  },
  {
   "cell_type": "code",
   "execution_count": 49,
   "metadata": {
    "executionInfo": {
     "elapsed": 123,
     "status": "ok",
     "timestamp": 1669531610446,
     "user": {
      "displayName": "Hok Wang",
      "userId": "02122581822260904525"
     },
     "user_tz": 360
    },
    "id": "-NizfoF5v-EJ"
   },
   "outputs": [],
   "source": [
    "# Instantiate mean imputer\n",
    "simple_imputer = SimpleImputer(missing_values=np.nan, strategy='mean')\n",
    "# Impute\n",
    "X_missing_mean = X_original.copy()\n",
    "X_imputed_mean = simple_imputer.fit_transform(X_missing_mean)\n",
    "\n"
   ]
  },
  {
   "cell_type": "markdown",
   "metadata": {
    "id": "OwuxcVQewh4B"
   },
   "source": [
    "### Hyperparameter tuning base estimator model\n",
    "We perform hyperparameter tuning to determine the best base model to predict on the imputed data"
   ]
  },
  {
   "cell_type": "code",
   "execution_count": 60,
   "metadata": {
    "colab": {
     "base_uri": "https://localhost:8080/"
    },
    "executionInfo": {
     "elapsed": 13998,
     "status": "ok",
     "timestamp": 1669531742154,
     "user": {
      "displayName": "Hok Wang",
      "userId": "02122581822260904525"
     },
     "user_tz": 360
    },
    "id": "hSzUV4yYwjmc",
    "outputId": "e516a269-1185-472d-a04a-57c80b55bf4f"
   },
   "outputs": [
    {
     "name": "stdout",
     "output_type": "stream",
     "text": [
      "Best model paramemeters:  {'bayesianridge__alpha_1': 0, 'bayesianridge__lambda_1': 0.0001, 'bayesianridge__n_iter': 50, 'bayesianridge__tol': 0.1}\n"
     ]
    }
   ],
   "source": [
    "# Partition the data into train and test data\n",
    "X_train_mean, X_test_mean, Y_train_mean, Y_test_mean = train_test_split(X_imputed_mean, target.values, test_size=0.2)\n",
    "\n",
    "# Parameters\n",
    "param_grid = {'bayesianridge__n_iter': [50, 100], 'bayesianridge__tol': [ 0.1, 0.01, 0.001, 0.0001,  0.00001], 'bayesianridge__alpha_1': [0.1,0.01, 0.001, 0.0001, 0.00001, 0],\n",
    "                'bayesianridge__lambda_1': [0.1,0.01, 0.001, 0.0001, 0.00001, 0]}\n",
    "\n",
    "# Regressor\n",
    "br_estimator_mean = BayesianRidge()\n",
    "# Scaler\n",
    "scaler_mean = StandardScaler()\n",
    "# Estimator\n",
    "estimator_mean = make_pipeline(scaler_mean, br_estimator_mean)\n",
    "# Grid search\n",
    "mean_imputer_score, mean_imputer_params, mean_search = grid_search(X_train_mean, Y_train_mean, estimator_mean, param_grid)\n",
    "print('Best model paramemeters: ' , mean_imputer_params)"
   ]
  },
  {
   "cell_type": "markdown",
   "metadata": {
    "id": "DWAPcwxUw5FL"
   },
   "source": [
    "### Model evaluation"
   ]
  },
  {
   "cell_type": "code",
   "execution_count": 61,
   "metadata": {
    "colab": {
     "base_uri": "https://localhost:8080/"
    },
    "executionInfo": {
     "elapsed": 111,
     "status": "ok",
     "timestamp": 1669531746942,
     "user": {
      "displayName": "Hok Wang",
      "userId": "02122581822260904525"
     },
     "user_tz": 360
    },
    "id": "WvUMZwmlwyAt",
    "outputId": "36525a0b-e422-405d-fb23-bba17628def4"
   },
   "outputs": [
    {
     "name": "stdout",
     "output_type": "stream",
     "text": [
      "----------------------------Model Train---------------------------------\n",
      "\n",
      "Train mean squared error is: 353877189339.78\n",
      "Train root mean squared error is: 594875.78\n",
      "Train r^2 variance score: 0.27288\n",
      "\n",
      "----------------------------Model Evaluation---------------------------------\n",
      "Test mean squared error is: 193545992647.88\n",
      "Test root mean squared error is: 439938.62\n",
      "Test r^2 variance score: 0.45834\n"
     ]
    },
    {
     "name": "stderr",
     "output_type": "stream",
     "text": [
      "C:\\Users\\Hok Wang\\AppData\\Local\\Temp\\ipykernel_6432\\818504720.py:13: FutureWarning: The frame.append method is deprecated and will be removed from pandas in a future version. Use pandas.concat instead.\n",
      "  RESULTS_SUMMARY = RESULTS_SUMMARY.append({'Dataset': 'Zillow', 'Imputation Algorithm': 'Mean', 'n_nearest_features': 'Nan','Train r^2 score': train_r2_score,\n"
     ]
    }
   ],
   "source": [
    "# Model evaluation\n",
    "br_estimator_mean = BayesianRidge()\n",
    "# Scaler\n",
    "scaler_mean = StandardScaler()\n",
    "# Estimator\n",
    "estimator_mean_eval = make_pipeline(scaler_mean, br_estimator_mean)\n",
    "\n",
    "#Scores\n",
    "train_mean_error, train_rms, train_r2_score = run_pipeline(X_train_mean, Y_train_mean, X_train_mean, Y_train_mean, estimator_mean_eval, mean_imputer_params)\n",
    "test_mean_error, test_rms, test_r2_score = run_pipeline(X_train_mean, Y_train_mean, X_test_mean, Y_test_mean, estimator_mean_eval, mean_imputer_params)\n",
    "\n",
    "# Append to results dataframe\n",
    "RESULTS_SUMMARY = RESULTS_SUMMARY.append({'Dataset': 'Zillow', 'Imputation Algorithm': 'Mean', 'n_nearest_features': 'Nan','Train r^2 score': train_r2_score,\n",
    "                                            'Prediction r^2 score': test_r2_score, 'Train RMSE':train_rms,'Prediction RMSE':test_rms}, ignore_index=True)\n",
    "\n",
    "# Print results\n",
    "print('----------------------------Model Train---------------------------------')\n",
    "print('\\nTrain mean squared error is: %0.2f' % train_mean_error)\n",
    "print('Train root mean squared error is: %0.2f' % train_rms)\n",
    "print('Train r^2 variance score: %0.5f' % train_r2_score)\n",
    "print('\\n----------------------------Model Evaluation---------------------------------')\n",
    "print('Test mean squared error is: %0.2f' % test_mean_error)\n",
    "print('Test root mean squared error is: %0.2f' % test_rms)\n",
    "print('Test r^2 variance score: %0.5f' % test_r2_score)"
   ]
  },
  {
   "cell_type": "markdown",
   "metadata": {
    "id": "x6uVvgE7JldD"
   },
   "source": [
    "## MICE with OLS Linear Regression\n",
    "### Hyperparameter tuning for imputer estimator model"
   ]
  },
  {
   "cell_type": "code",
   "execution_count": 22,
   "metadata": {},
   "outputs": [],
   "source": [
    "# Copy feature matrix\n",
    "X_missing_gd = X_original.copy()"
   ]
  },
  {
   "cell_type": "code",
   "execution_count": 26,
   "metadata": {
    "colab": {
     "base_uri": "https://localhost:8080/"
    },
    "executionInfo": {
     "elapsed": 574994,
     "status": "ok",
     "timestamp": 1669532465950,
     "user": {
      "displayName": "Hok Wang",
      "userId": "02122581822260904525"
     },
     "user_tz": 360
    },
    "id": "4LfcSFwSxEHK",
    "outputId": "1a587713-d9a1-4f13-e25a-15a475fa194d"
   },
   "outputs": [
    {
     "name": "stdout",
     "output_type": "stream",
     "text": [
      "Best BayesianRidge imputer paramemeters:  {'iterativeimputer__estimator__alpha_1': 0.01, 'iterativeimputer__estimator__lambda_1': 0.0001, 'iterativeimputer__estimator__n_iter': 1500, 'iterativeimputer__estimator__tol': 1e-05, 'iterativeimputer__n_nearest_features': 1}\n"
     ]
    },
    {
     "name": "stderr",
     "output_type": "stream",
     "text": [
      "C:\\ProgramData\\Anaconda3\\lib\\site-packages\\sklearn\\impute\\_iterative.py:699: ConvergenceWarning: [IterativeImputer] Early stopping criterion not reached.\n",
      "  warnings.warn(\n"
     ]
    }
   ],
   "source": [
    "# Copy feature matrix\n",
    "X_missing_gd = X_original.copy()\n",
    "\n",
    "# Parameters\n",
    "param_grid_gd = {'iterativeimputer__n_nearest_features': [1,3,5], 'iterativeimputer__estimator__n_iter':  [1000, 1500],\n",
    "                 'iterativeimputer__estimator__tol': [0.01, 0.0001, 0.00001],'iterativeimputer__estimator__alpha_1': [0.1,0.01,0.001,0.0001, 0.00001],\n",
    "                'iterativeimputer__estimator__lambda_1': [0.1, 0.01,0.001,0.0001,0.00001]}\n",
    "\n",
    "# Regressor\n",
    "br_estimator_gd = BayesianRidge()\n",
    "# Instantiate mean imputer\n",
    "iterative_imputer_gd = IterativeImputer(estimator=BayesianRidge())\n",
    "# Scaler\n",
    "scaler_gd = StandardScaler()\n",
    "# Impute\n",
    "estimator_gd = make_pipeline(iterative_imputer_gd, scaler_gd, br_estimator_gd)\n",
    "# Grid search\n",
    "grid_iterative_imputer_score_gd, grid_iterative_imputer_params_gd, grid_iterative_search_gd = grid_search(X_missing_gd, target, estimator_gd, param_grid_gd)\n",
    "print('Best BayesianRidge imputer paramemeters: ' , grid_iterative_imputer_params_gd)"
   ]
  },
  {
   "cell_type": "code",
   "execution_count": 23,
   "metadata": {},
   "outputs": [
    {
     "name": "stderr",
     "output_type": "stream",
     "text": [
      "C:\\ProgramData\\Anaconda3\\lib\\site-packages\\sklearn\\impute\\_iterative.py:699: ConvergenceWarning: [IterativeImputer] Early stopping criterion not reached.\n",
      "  warnings.warn(\n"
     ]
    }
   ],
   "source": [
    "# Instantiate iterative imputer\n",
    "iterative_imputer_gd = IterativeImputer(estimator=BayesianRidge(alpha_1=0.01, lambda_1=0.0001, tol = 0.00001, n_iter=1500), n_nearest_features=1)\n",
    "# Impute\n",
    "X_imputed_gd = iterative_imputer_gd.fit_transform(X_missing_gd)\n",
    "\n"
   ]
  },
  {
   "cell_type": "code",
   "execution_count": 66,
   "metadata": {},
   "outputs": [
    {
     "name": "stdout",
     "output_type": "stream",
     "text": [
      "Best BayesianRidge model paramemeters:  {'bayesianridge__alpha_1': 0, 'bayesianridge__lambda_1': 0.001, 'bayesianridge__n_iter': 50, 'bayesianridge__tol': 0.01}\n"
     ]
    }
   ],
   "source": [
    "# Partition the data into train and test data\n",
    "X_train_gd, X_test_gd, Y_train_gd, Y_test_gd = train_test_split(X_imputed_gd, target.values, test_size=0.2)\n",
    "\n",
    "\n",
    "# Parameters\n",
    "param_grid_gd = {'bayesianridge__n_iter': [50, 100], 'bayesianridge__tol': [ 0.1, 0.01, 0.001, 0.0001,  0.00001], 'bayesianridge__alpha_1': [0.1,0.01, 0.001, 0.0001, 0.00001, 0],\n",
    "                'bayesianridge__lambda_1': [0.1,0.01, 0.001, 0.0001, 0.00001, 0]}\n",
    "\n",
    "# Regressor\n",
    "br_estimator_gd = BayesianRidge()\n",
    "# Scaler\n",
    "scaler_gd = StandardScaler()\n",
    "# Impute\n",
    "estimator_gd = make_pipeline(scaler_gd, br_estimator_gd)\n",
    "# Grid search\n",
    "iterative_imputer_score_gd, iterative_imputer_params_gd, iterative_search_gd = grid_search(X_train_gd, Y_train_gd, estimator_gd, param_grid_gd)\n",
    "print('Best BayesianRidge model paramemeters: ' , iterative_imputer_params_gd)"
   ]
  },
  {
   "cell_type": "markdown",
   "metadata": {},
   "source": [
    "### Model Evaluation "
   ]
  },
  {
   "cell_type": "code",
   "execution_count": 67,
   "metadata": {},
   "outputs": [
    {
     "name": "stdout",
     "output_type": "stream",
     "text": [
      "----------------------------Model Train---------------------------------\n",
      "\n",
      "Train mean squared error is: 347131990947.09\n",
      "Train root mean squared error is: 589179.08\n",
      "Train r^2 variance score: 0.26827\n",
      "\n",
      "----------------------------Model Evaluation---------------------------------\n",
      "Test mean squared error is: 291976202845.48\n",
      "Test root mean squared error is: 540348.22\n",
      "Test r^2 variance score: 0.28165\n"
     ]
    },
    {
     "name": "stderr",
     "output_type": "stream",
     "text": [
      "C:\\Users\\Hok Wang\\AppData\\Local\\Temp\\ipykernel_6432\\1450442147.py:14: FutureWarning: The frame.append method is deprecated and will be removed from pandas in a future version. Use pandas.concat instead.\n",
      "  RESULTS_SUMMARY = RESULTS_SUMMARY.append({'Dataset': 'Zillow', 'Imputation Algorithm': 'BayesianRidge', 'n_nearest_features': 1,'Train r^2 score': train_r2_score,\n"
     ]
    }
   ],
   "source": [
    "# Model evaluation\n",
    "br_estimator_gd = BayesianRidge()\n",
    "# Scaler\n",
    "scaler_gd = StandardScaler()\n",
    "\n",
    "# Estimator\n",
    "estimator_gd_eval = make_pipeline(scaler_gd, br_estimator_gd)\n",
    "\n",
    "# Scores\n",
    "train_mean_error, train_rms, train_r2_score = run_pipeline(X_train_gd, Y_train_gd, X_train_gd, Y_train_gd, estimator_gd_eval, iterative_imputer_params_gd)\n",
    "test_mean_error, test_rms, test_r2_score = run_pipeline(X_train_gd, Y_train_gd, X_test_gd, Y_test_gd, estimator_gd_eval, iterative_imputer_params_gd)\n",
    "\n",
    "# Append to results dataframe\n",
    "RESULTS_SUMMARY = RESULTS_SUMMARY.append({'Dataset': 'Zillow', 'Imputation Algorithm': 'BayesianRidge', 'n_nearest_features': 1,'Train r^2 score': train_r2_score,\n",
    "                                            'Prediction r^2 score': test_r2_score, 'Train RMSE':train_rms,'Prediction RMSE':test_rms}, ignore_index=True)\n",
    "\n",
    "# Print results\n",
    "print('----------------------------Model Train---------------------------------')\n",
    "print('\\nTrain mean squared error is: %0.2f' % train_mean_error)\n",
    "print('Train root mean squared error is: %0.2f' % train_rms)\n",
    "print('Train r^2 variance score: %0.5f' % train_r2_score)\n",
    "print('\\n----------------------------Model Evaluation---------------------------------')\n",
    "print('Test mean squared error is: %0.2f' % test_mean_error)\n",
    "print('Test root mean squared error is: %0.2f' % test_rms)\n",
    "print('Test r^2 variance score: %0.5f' % test_r2_score)"
   ]
  },
  {
   "cell_type": "code",
   "execution_count": 26,
   "metadata": {},
   "outputs": [
    {
     "data": {
      "text/html": [
       "<div>\n",
       "<style scoped>\n",
       "    .dataframe tbody tr th:only-of-type {\n",
       "        vertical-align: middle;\n",
       "    }\n",
       "\n",
       "    .dataframe tbody tr th {\n",
       "        vertical-align: top;\n",
       "    }\n",
       "\n",
       "    .dataframe thead th {\n",
       "        text-align: right;\n",
       "    }\n",
       "</style>\n",
       "<table border=\"1\" class=\"dataframe\">\n",
       "  <thead>\n",
       "    <tr style=\"text-align: right;\">\n",
       "      <th></th>\n",
       "      <th>Dataset</th>\n",
       "      <th>Imputation Algorithm</th>\n",
       "      <th>n_nearest_features</th>\n",
       "      <th>Train r^2 score</th>\n",
       "      <th>Prediction r^2 score</th>\n",
       "      <th>Train RMSE</th>\n",
       "      <th>Prediction RMSE</th>\n",
       "    </tr>\n",
       "  </thead>\n",
       "  <tbody>\n",
       "    <tr>\n",
       "      <th>0</th>\n",
       "      <td>Zillow</td>\n",
       "      <td>BayesianRidge</td>\n",
       "      <td>1</td>\n",
       "      <td>0.253718</td>\n",
       "      <td>0.347836</td>\n",
       "      <td>594266.465674</td>\n",
       "      <td>517832.30851</td>\n",
       "    </tr>\n",
       "  </tbody>\n",
       "</table>\n",
       "</div>"
      ],
      "text/plain": [
       "  Dataset Imputation Algorithm n_nearest_features  Train r^2 score  \\\n",
       "0  Zillow        BayesianRidge                  1         0.253718   \n",
       "\n",
       "   Prediction r^2 score     Train RMSE  Prediction RMSE  \n",
       "0              0.347836  594266.465674     517832.30851  "
      ]
     },
     "execution_count": 26,
     "metadata": {},
     "output_type": "execute_result"
    }
   ],
   "source": [
    "RESULTS_SUMMARY"
   ]
  },
  {
   "cell_type": "markdown",
   "metadata": {},
   "source": [
    "## MICE with K-Neighbours Regressor\n",
    "### Hyperparameter tuning for imputer  estimator model"
   ]
  },
  {
   "cell_type": "code",
   "execution_count": 27,
   "metadata": {},
   "outputs": [
    {
     "name": "stdout",
     "output_type": "stream",
     "text": [
      "Best KNeighborsRegressor imputer paramemeters:  {'iterativeimputer__estimator__leaf_size': 2, 'iterativeimputer__estimator__n_neighbors': 2, 'iterativeimputer__estimator__p': 1, 'iterativeimputer__estimator__weights': 'uniform', 'iterativeimputer__n_nearest_features': 1}\n"
     ]
    },
    {
     "name": "stderr",
     "output_type": "stream",
     "text": [
      "C:\\ProgramData\\Anaconda3\\lib\\site-packages\\sklearn\\impute\\_iterative.py:699: ConvergenceWarning: [IterativeImputer] Early stopping criterion not reached.\n",
      "  warnings.warn(\n"
     ]
    }
   ],
   "source": [
    "# Copy feature matrix\n",
    "X_missing_knn = X_original.copy()\n",
    "\n",
    "# Parameters\n",
    "param_grid_knn = {'iterativeimputer__n_nearest_features': [1, 3, 5], 'iterativeimputer__estimator__n_neighbors':  [2, 5, 8, 10, 20],\n",
    "                 'iterativeimputer__estimator__weights': ['uniform','distance'],'iterativeimputer__estimator__p': [1, 2, 5], 'iterativeimputer__estimator__leaf_size':[2, 5, 8, 10, 20, 30]}\n",
    "\n",
    "# Regressor\n",
    "br_estimator_knn = BayesianRidge()\n",
    "# Instantiate knn imputer\n",
    "iterative_imputer_knn = IterativeImputer(estimator=KNeighborsRegressor())\n",
    "# Scaler\n",
    "scaler_knn = StandardScaler()\n",
    "# Estimator\n",
    "estimator_knn = make_pipeline(iterative_imputer_knn, scaler_knn, br_estimator_knn)\n",
    "# Grid search\n",
    "grid_iterative_imputer_score_knn, grid_iterative_imputer_params_knn, grid_iterative_search_knn = grid_search(X_missing_knn, target, estimator_knn, param_grid_knn)\n",
    "print('Best KNeighborsRegressor imputer paramemeters: ' , grid_iterative_imputer_params_knn)"
   ]
  },
  {
   "cell_type": "code",
   "execution_count": 27,
   "metadata": {},
   "outputs": [],
   "source": [
    "# Copy feature matrix\n",
    "X_missing_knn = X_original.copy()"
   ]
  },
  {
   "cell_type": "markdown",
   "metadata": {},
   "source": [
    "### Best KNeighborsRegressor imputation"
   ]
  },
  {
   "cell_type": "code",
   "execution_count": 72,
   "metadata": {},
   "outputs": [
    {
     "name": "stderr",
     "output_type": "stream",
     "text": [
      "C:\\ProgramData\\Anaconda3\\lib\\site-packages\\sklearn\\impute\\_iterative.py:699: ConvergenceWarning: [IterativeImputer] Early stopping criterion not reached.\n",
      "  warnings.warn(\n"
     ]
    }
   ],
   "source": [
    "# Instantiate iterative imputer\n",
    "iterative_imputer_knn = IterativeImputer(estimator=KNeighborsRegressor(n_neighbors=2, leaf_size=2, p=1, weights='uniform'), n_nearest_features=1)\n",
    "# Impute\n",
    "X_imputed_knn = iterative_imputer_knn.fit_transform(X_missing_gd)\n",
    "\n"
   ]
  },
  {
   "cell_type": "markdown",
   "metadata": {},
   "source": [
    "### Hyperparameter tuning for base estimator model"
   ]
  },
  {
   "cell_type": "code",
   "execution_count": 75,
   "metadata": {},
   "outputs": [
    {
     "name": "stdout",
     "output_type": "stream",
     "text": [
      "Best BayesianRidge base model paramemeters:  {'bayesianridge__alpha_1': 0, 'bayesianridge__lambda_1': 0.0001, 'bayesianridge__n_iter': 100, 'bayesianridge__tol': 0.1}\n"
     ]
    }
   ],
   "source": [
    "\n",
    "# Partition the data into train and test data\n",
    "X_train_knn, X_test_knn, Y_train_knn, Y_test_knn = train_test_split(X_imputed_knn, target.values, test_size=0.2)\n",
    "\n",
    "# Parameters\n",
    "param_grid_knn = {'bayesianridge__n_iter': [100, 200], 'bayesianridge__tol': [ 0.1, 0.01, 0.001, 0.0001,  0.00001], 'bayesianridge__alpha_1': [0.1,0.01, 0.001, 0.0001, 0.00001, 0],\n",
    "                'bayesianridge__lambda_1': [0.1, 0.01, 0.001, 0.0001, 0.00001, 0]}\n",
    "\n",
    "# Regressor\n",
    "br_estimator_knn = BayesianRidge()\n",
    "# Scaler\n",
    "scaler_knn = StandardScaler()\n",
    "# Impute\n",
    "estimator_knn = make_pipeline(scaler_knn, br_estimator_knn)\n",
    "# Grid search\n",
    "iterative_imputer_score_knn, iterative_imputer_params_knn, iterative_search_knn = grid_search(X_train_knn, Y_train_knn, estimator_knn, param_grid_knn)\n",
    "print('Best BayesianRidge base model paramemeters: ' , iterative_imputer_params_knn)"
   ]
  },
  {
   "cell_type": "markdown",
   "metadata": {},
   "source": [
    "### Model evaluation"
   ]
  },
  {
   "cell_type": "code",
   "execution_count": 76,
   "metadata": {},
   "outputs": [
    {
     "name": "stdout",
     "output_type": "stream",
     "text": [
      "----------------------------Model Train---------------------------------\n",
      "\n",
      "Train mean squared error is: 361975649149.39\n",
      "Train root mean squared error is: 601644.12\n",
      "Train r^2 variance score: 0.2565\n",
      "\n",
      "----------------------------Model Evaluation---------------------------------\n",
      "Test mean squared error is: 236609523486.68\n",
      "Test root mean squared error is: 486425.25\n",
      "Test r^2 variance score: 0.3363\n"
     ]
    },
    {
     "name": "stderr",
     "output_type": "stream",
     "text": [
      "C:\\Users\\Hok Wang\\AppData\\Local\\Temp\\ipykernel_6432\\440829881.py:14: FutureWarning: The frame.append method is deprecated and will be removed from pandas in a future version. Use pandas.concat instead.\n",
      "  RESULTS_SUMMARY = RESULTS_SUMMARY.append({'Dataset': 'Zillow', 'Imputation Algorithm': 'KNeighborsRegressor', 'n_nearest_features': 1,'Train r^2 score': train_r2_score,\n"
     ]
    }
   ],
   "source": [
    "# Model evaluation\n",
    "br_estimator_knn = BayesianRidge()\n",
    "# Scaler\n",
    "scaler_knn = StandardScaler()\n",
    "\n",
    "# Estimator\n",
    "estimator_knn_eval = make_pipeline(scaler_knn, br_estimator_knn)\n",
    "\n",
    "# Scores\n",
    "train_mean_error,train_rms, train_r2_score = run_pipeline(X_train_knn, Y_train_knn, X_train_knn, Y_train_knn, estimator_knn_eval, iterative_imputer_params_knn)\n",
    "test_mean_error,test_rms, test_r2_score = run_pipeline(X_train_knn, Y_train_knn, X_test_knn, Y_test_knn, estimator_knn_eval, iterative_imputer_params_knn)\n",
    "\n",
    "# Append to results dataframe\n",
    "RESULTS_SUMMARY = RESULTS_SUMMARY.append({'Dataset': 'Zillow', 'Imputation Algorithm': 'KNeighborsRegressor', 'n_nearest_features': 1,'Train r^2 score': train_r2_score,\n",
    "                                            'Prediction r^2 score': test_r2_score, 'Train RMSE':train_rms,'Prediction RMSE':test_rms}, ignore_index=True)\n",
    "\n",
    "# Print results\n",
    "print('----------------------------Model Train---------------------------------')\n",
    "print('\\nTrain mean squared error is: %0.2f' % train_mean_error)\n",
    "print('Train root mean squared error is: %0.2f' % train_rms)\n",
    "print('Train r^2 variance score: %0.4f' % train_r2_score)\n",
    "print('\\n----------------------------Model Evaluation---------------------------------')\n",
    "print('Test mean squared error is: %0.2f' % test_mean_error)\n",
    "print('Test root mean squared error is: %0.2f' % test_rms)\n",
    "print('Test r^2 variance score: %0.4f' % test_r2_score)"
   ]
  },
  {
   "cell_type": "markdown",
   "metadata": {},
   "source": [
    "## MICE with RandomForest Regressor\n",
    "### Hyperparameter tuning for RandomForest imputer model"
   ]
  },
  {
   "cell_type": "code",
   "execution_count": null,
   "metadata": {},
   "outputs": [],
   "source": [
    "# Copy feature matrix\n",
    "X_missing_rf = X_original.copy()\n",
    "\n",
    "# Parameters\n",
    "param_grid_rf = {'iterativeimputer__n_nearest_features': [1, 3], 'iterativeimputer__estimator__n_estimators':  [100, 200],\n",
    "                 'iterativeimputer__estimator__min_samples_split': [2, 5, 10],'iterativeimputer__estimator__max_depth': [10, 30, None],\n",
    "                'iterativeimputer__estimator__min_samples_leaf' : [1, 2, 4]}\n",
    "\n",
    "# Regressor\n",
    "br_estimator_rf = BayesianRidge()\n",
    "# Instantiate knn imputer\n",
    "iterative_imputer_rf = IterativeImputer(estimator=RandomForestRegressor())\n",
    "# Scaler\n",
    "scaler_rf = StandardScaler()\n",
    "# Estimator\n",
    "estimator_rf = make_pipeline(iterative_imputer_rf, scaler_rf, br_estimator_rf)\n",
    "# Grid search\n",
    "grid_iterative_imputer_score_rf, grid_iterative_imputer_params_rf, grid_iterative_search_rf = grid_search(X_missing_rf, target, estimator_rf, param_grid_rf)\n",
    "print('Best RandomForestRegressor imputer paramemeters: ' , grid_iterative_imputer_params_rf)"
   ]
  },
  {
   "cell_type": "markdown",
   "metadata": {},
   "source": [
    "## MICE with MLPRegressor Regressor\n",
    "### Hyperparameter tuning for MLPRegressr model"
   ]
  },
  {
   "cell_type": "code",
   "execution_count": null,
   "metadata": {},
   "outputs": [],
   "source": [
    "# Copy feature matrix\n",
    "X_missing_mlp = X_original.copy()\n",
    "\n",
    "# Parameters\n",
    "param_grid_mlp = {'iterativeimputer__n_nearest_features': [1, 3], 'iterativeimputer__estimator__hidden_layer_sizes':  [10, 30, 50, 100, 150],\n",
    "                 'iterativeimputer__estimator__alpha': [0.001, 0.0001], 'iterativeimputer__estimator__learning_rate':['constant', 'adaptive'],\n",
    "                  'iterativeimputer__estimator__tol': [0.001, 0.0001], 'iterativeimputer__estimator__early_stopping':[True],\n",
    "                  'iterativeimputer__estimator__max_iter': [200, 500, 1000],'iterativeimputer__estimator__learning_rate_init':[0.001, 0.0001]}\n",
    "\n",
    "# Regressor\n",
    "br_estimator_mlp = BayesianRidge()\n",
    "# Instantiate knn imputer\n",
    "iterative_imputer_mlp = IterativeImputer(estimator=MLPRegressor())\n",
    "# Scaler\n",
    "scaler_mlp = StandardScaler()\n",
    "# Estimator\n",
    "estimator_mlp = make_pipeline(iterative_imputer_mlp, scaler_mlp, br_estimator_mlp)\n",
    "# Grid search\n",
    "grid_iterative_imputer_score_mlp, grid_iterative_imputer_params_mlp, grid_iterative_search_mlp = grid_search(X_missing_mlp, target, estimator_mlp, param_grid_mlp)\n",
    "print('Best MLPRegressor imputer paramemeters: ' , grid_iterative_imputer_params_mlp)"
   ]
  },
  {
   "cell_type": "code",
   "execution_count": 29,
   "metadata": {
    "colab": {
     "base_uri": "https://localhost:8080/"
    },
    "executionInfo": {
     "elapsed": 893,
     "status": "ok",
     "timestamp": 1669532821687,
     "user": {
      "displayName": "Hok Wang",
      "userId": "02122581822260904525"
     },
     "user_tz": 360
    },
    "id": "dgPGIsyU-22c",
    "outputId": "0d5ed664-8e1d-4e39-fbc0-5ad4f8ec0f51"
   },
   "outputs": [
    {
     "name": "stderr",
     "output_type": "stream",
     "text": [
      "C:\\ProgramData\\Anaconda3\\lib\\site-packages\\sklearn\\impute\\_iterative.py:699: ConvergenceWarning: [IterativeImputer] Early stopping criterion not reached.\n",
      "  warnings.warn(\n"
     ]
    }
   ],
   "source": [
    "# Instantiate iterative imputer\n",
    "iterative_imputer_gd = IterativeImputer(estimator=BayesianRidge(alpha_1=0.0001, lambda_1=0.00001, tol = 0.00001, n_iter=1500), n_nearest_features=1)\n",
    "# Impute\n",
    "X_imputed_gd = iterative_imputer_gd.fit_transform(X_missing_gd)\n",
    "\n",
    "# Partition the data into train and test data\n",
    "X_train_gd, X_test_gd, Y_train_gd, Y_test_gd = train_test_split(X_imputed_gd, target.values, test_size=0.2)"
   ]
  },
  {
   "cell_type": "code",
   "execution_count": 39,
   "metadata": {
    "colab": {
     "base_uri": "https://localhost:8080/"
    },
    "executionInfo": {
     "elapsed": 5710,
     "status": "ok",
     "timestamp": 1669532828837,
     "user": {
      "displayName": "Hok Wang",
      "userId": "02122581822260904525"
     },
     "user_tz": 360
    },
    "id": "ac7RsalHDex2",
    "outputId": "b64ad1cc-9f49-428c-ed0e-d0ef7a625192"
   },
   "outputs": [
    {
     "name": "stdout",
     "output_type": "stream",
     "text": [
      "Best BayesianRidge model paramemeters:  {'bayesianridge__alpha_1': 0.0001, 'bayesianridge__lambda_1': 0.001, 'bayesianridge__n_iter': 50, 'bayesianridge__tol': 0.01}\n"
     ]
    }
   ],
   "source": [
    "# Parameters\n",
    "param_grid_gd = {'bayesianridge__n_iter': [50, 100], 'bayesianridge__tol': [ 0.1, 0.01, 0.001, 0.0001,  0.00001], 'bayesianridge__alpha_1': [0.1,0.01, 0.001, 0.0001, 0.00001, 0],\n",
    "                'bayesianridge__lambda_1': [0.1,0.01, 0.001, 0.0001, 0.00001, 0]}\n",
    "\n",
    "# Regressor\n",
    "br_estimator_gd = BayesianRidge()\n",
    "# Scaler\n",
    "scaler_gd = StandardScaler()\n",
    "# Impute\n",
    "estimator_gd = make_pipeline(scaler_gd, br_estimator_gd)\n",
    "# Grid search\n",
    "iterative_imputer_score_gd, iterative_imputer_params_gd, iterative_search_gd = grid_search(X_train_gd, Y_train_gd, estimator_gd, param_grid_gd)\n",
    "print('Best BayesianRidge model paramemeters: ' , iterative_imputer_params_gd)"
   ]
  },
  {
   "cell_type": "code",
   "execution_count": 40,
   "metadata": {
    "colab": {
     "base_uri": "https://localhost:8080/"
    },
    "executionInfo": {
     "elapsed": 272,
     "status": "ok",
     "timestamp": 1669532829976,
     "user": {
      "displayName": "Hok Wang",
      "userId": "02122581822260904525"
     },
     "user_tz": 360
    },
    "id": "DcacoEKgDogc",
    "outputId": "e7ce68d2-72e5-43ba-d20f-eced4f41e18e"
   },
   "outputs": [
    {
     "name": "stdout",
     "output_type": "stream",
     "text": [
      "----------------------------Model Train---------------------------------\n",
      "\n",
      "Train mean squared error is: 106137823.63\n",
      "Train root mean squared error is: 10302.32\n",
      "Train r^2 variance score: 0.99972\n",
      "\n",
      "----------------------------Model Evaluation---------------------------------\n",
      "Test mean squared error is: 47850786.40\n",
      "Test root mean squared error is: 6917.43\n",
      "Test r^2 variance score: 0.99994\n"
     ]
    },
    {
     "name": "stderr",
     "output_type": "stream",
     "text": [
      "C:\\Users\\Hok Wang\\AppData\\Local\\Temp\\ipykernel_13316\\1450442147.py:14: FutureWarning: The frame.append method is deprecated and will be removed from pandas in a future version. Use pandas.concat instead.\n",
      "  RESULTS_SUMMARY = RESULTS_SUMMARY.append({'Dataset': 'Zillow', 'Imputation Algorithm': 'BayesianRidge', 'n_nearest_features': 1,'Train r^2 score': train_r2_score,\n"
     ]
    }
   ],
   "source": [
    "# Model evaluation\n",
    "br_estimator_gd = BayesianRidge()\n",
    "# Scaler\n",
    "scaler_gd = StandardScaler()\n",
    "\n",
    "# Estimator\n",
    "estimator_gd_eval = make_pipeline(scaler_gd, br_estimator_gd)\n",
    "\n",
    "# Scores\n",
    "train_mean_error, train_rms, train_r2_score = run_pipeline(X_train_gd, Y_train_gd, X_train_gd, Y_train_gd, estimator_gd_eval, iterative_imputer_params_gd)\n",
    "test_mean_error, test_rms, test_r2_score = run_pipeline(X_train_gd, Y_train_gd, X_test_gd, Y_test_gd, estimator_gd_eval, iterative_imputer_params_gd)\n",
    "\n",
    "# Append to results dataframe\n",
    "RESULTS_SUMMARY = RESULTS_SUMMARY.append({'Dataset': 'Zillow', 'Imputation Algorithm': 'BayesianRidge', 'n_nearest_features': 1,'Train r^2 score': train_r2_score,\n",
    "                                            'Prediction r^2 score': test_r2_score, 'Train RMSE':train_rms,'Prediction RMSE':test_rms}, ignore_index=True)\n",
    "\n",
    "# Print results\n",
    "print('----------------------------Model Train---------------------------------')\n",
    "print('\\nTrain mean squared error is: %0.2f' % train_mean_error)\n",
    "print('Train root mean squared error is: %0.2f' % train_rms)\n",
    "print('Train r^2 variance score: %0.5f' % train_r2_score)\n",
    "print('\\n----------------------------Model Evaluation---------------------------------')\n",
    "print('Test mean squared error is: %0.2f' % test_mean_error)\n",
    "print('Test root mean squared error is: %0.2f' % test_rms)\n",
    "print('Test r^2 variance score: %0.5f' % test_r2_score)"
   ]
  },
  {
   "cell_type": "code",
   "execution_count": 54,
   "metadata": {},
   "outputs": [
    {
     "data": {
      "text/html": [
       "<div>\n",
       "<style scoped>\n",
       "    .dataframe tbody tr th:only-of-type {\n",
       "        vertical-align: middle;\n",
       "    }\n",
       "\n",
       "    .dataframe tbody tr th {\n",
       "        vertical-align: top;\n",
       "    }\n",
       "\n",
       "    .dataframe thead th {\n",
       "        text-align: right;\n",
       "    }\n",
       "</style>\n",
       "<table border=\"1\" class=\"dataframe\">\n",
       "  <thead>\n",
       "    <tr style=\"text-align: right;\">\n",
       "      <th></th>\n",
       "      <th>Dataset</th>\n",
       "      <th>Imputation Algorithm</th>\n",
       "      <th>n_nearest_features</th>\n",
       "      <th>Train r^2 score</th>\n",
       "      <th>Prediction r^2 score</th>\n",
       "      <th>Train RMSE</th>\n",
       "      <th>Prediction RMSE</th>\n",
       "    </tr>\n",
       "  </thead>\n",
       "  <tbody>\n",
       "    <tr>\n",
       "      <th>0</th>\n",
       "      <td>Zillow</td>\n",
       "      <td>BayesianRidge</td>\n",
       "      <td>1</td>\n",
       "      <td>0.999725</td>\n",
       "      <td>0.999937</td>\n",
       "      <td>10302.321274</td>\n",
       "      <td>6917.426284</td>\n",
       "    </tr>\n",
       "    <tr>\n",
       "      <th>1</th>\n",
       "      <td>Zillow</td>\n",
       "      <td>Mean</td>\n",
       "      <td>Nan</td>\n",
       "      <td>0.999054</td>\n",
       "      <td>0.999061</td>\n",
       "      <td>20782.445459</td>\n",
       "      <td>21173.482257</td>\n",
       "    </tr>\n",
       "  </tbody>\n",
       "</table>\n",
       "</div>"
      ],
      "text/plain": [
       "  Dataset Imputation Algorithm n_nearest_features  Train r^2 score  \\\n",
       "0  Zillow        BayesianRidge                  1         0.999725   \n",
       "1  Zillow                 Mean                Nan         0.999054   \n",
       "\n",
       "   Prediction r^2 score    Train RMSE  Prediction RMSE  \n",
       "0              0.999937  10302.321274      6917.426284  \n",
       "1              0.999061  20782.445459     21173.482257  "
      ]
     },
     "execution_count": 54,
     "metadata": {},
     "output_type": "execute_result"
    }
   ],
   "source": [
    "RESULTS_SUMMARY"
   ]
  },
  {
   "cell_type": "markdown",
   "metadata": {},
   "source": [
    "## MICE with K-Neighbours Regressor\n",
    "### Hyperparameter tuning for imputer  estimator model"
   ]
  },
  {
   "cell_type": "code",
   "execution_count": 66,
   "metadata": {},
   "outputs": [
    {
     "name": "stdout",
     "output_type": "stream",
     "text": [
      "Best KNeighborsRegressor imputer paramemeters:  {'iterativeimputer__estimator__leaf_size': 8, 'iterativeimputer__estimator__n_neighbors': 5, 'iterativeimputer__estimator__p': 1, 'iterativeimputer__estimator__weights': 'uniform', 'iterativeimputer__n_nearest_features': 1}\n"
     ]
    },
    {
     "name": "stderr",
     "output_type": "stream",
     "text": [
      "C:\\ProgramData\\Anaconda3\\lib\\site-packages\\sklearn\\impute\\_iterative.py:699: ConvergenceWarning: [IterativeImputer] Early stopping criterion not reached.\n",
      "  warnings.warn(\n"
     ]
    }
   ],
   "source": [
    "# Copy feature matrix\n",
    "X_missing_knn = X_original.copy()\n",
    "\n",
    "# Parameters\n",
    "param_grid_knn = {'iterativeimputer__n_nearest_features': [1, 3, 5], 'iterativeimputer__estimator__n_neighbors':  [2, 5, 8, 10, 20],\n",
    "                 'iterativeimputer__estimator__weights': ['uniform','distance'],'iterativeimputer__estimator__p': [1, 2, 5], 'iterativeimputer__estimator__leaf_size':[2, 5, 8, 10, 20, 30, 40]}\n",
    "\n",
    "# Regressor\n",
    "br_estimator_knn = BayesianRidge()\n",
    "# Instantiate knn imputer\n",
    "iterative_imputer_knn = IterativeImputer(estimator=KNeighborsRegressor())\n",
    "# Scaler\n",
    "scaler_knn = StandardScaler()\n",
    "# Estimator\n",
    "estimator_knn = make_pipeline(iterative_imputer_knn, scaler_knn, br_estimator_knn)\n",
    "# Grid search\n",
    "grid_iterative_imputer_score_knn, grid_iterative_imputer_params_knn, grid_iterative_search_knn = grid_search(X_missing_knn, target, estimator_knn, param_grid_knn)\n",
    "print('Best KNeighborsRegressor imputer paramemeters: ' , grid_iterative_imputer_params_knn)"
   ]
  },
  {
   "cell_type": "code",
   "execution_count": 63,
   "metadata": {},
   "outputs": [
    {
     "name": "stderr",
     "output_type": "stream",
     "text": [
      "C:\\ProgramData\\Anaconda3\\lib\\site-packages\\sklearn\\impute\\_iterative.py:699: ConvergenceWarning: [IterativeImputer] Early stopping criterion not reached.\n",
      "  warnings.warn(\n"
     ]
    }
   ],
   "source": [
    "# Instantiate iterative imputer\n",
    "iterative_imputer_knn = IterativeImputer(estimator=KNeighborsRegressor(n_neighbors=5, p=2, weights='distance'), n_nearest_features=1)\n",
    "# Impute\n",
    "X_imputed_knn = iterative_imputer_knn.fit_transform(X_missing_gd)\n",
    "\n",
    "# Partition the data into train and test data\n",
    "X_train_knn, X_test_knn, Y_train_knn, Y_test_knn = train_test_split(X_imputed_knn, target.values, test_size=0.2)"
   ]
  },
  {
   "cell_type": "code",
   "execution_count": 64,
   "metadata": {},
   "outputs": [
    {
     "name": "stdout",
     "output_type": "stream",
     "text": [
      "Best BayesianRidge base model paramemeters:  {'bayesianridge__alpha_1': 0.1, 'bayesianridge__lambda_1': 0, 'bayesianridge__n_iter': 50, 'bayesianridge__tol': 0.01}\n"
     ]
    }
   ],
   "source": [
    "# Parameters\n",
    "param_grid_knn = {'bayesianridge__n_iter': [50, 100], 'bayesianridge__tol': [ 0.01, 0.001, 0.0001], 'bayesianridge__alpha_1': [0.1, 0.01, 0.0001,0.00001, 0],\n",
    "                'bayesianridge__lambda_1': [ 0.1, 0.01,0.001, 0.0001,0.00001, 0]}\n",
    "\n",
    "# Regressor\n",
    "br_estimator_knn = BayesianRidge()\n",
    "# Scaler\n",
    "scaler_knn = StandardScaler()\n",
    "# Impute\n",
    "estimator_knn = make_pipeline(scaler_knn, br_estimator_knn)\n",
    "# Grid search\n",
    "iterative_imputer_score_knn, iterative_imputer_params_knn, iterative_search_knn = grid_search(X_train_knn, Y_train_knn, estimator_knn, param_grid_knn)\n",
    "print('Best BayesianRidge base model paramemeters: ' , iterative_imputer_params_knn)"
   ]
  },
  {
   "cell_type": "markdown",
   "metadata": {},
   "source": [
    "### Model evaluation"
   ]
  },
  {
   "cell_type": "code",
   "execution_count": 65,
   "metadata": {},
   "outputs": [
    {
     "name": "stdout",
     "output_type": "stream",
     "text": [
      "----------------------------Model Train---------------------------------\n",
      "\n",
      "Train mean squared error is: 1615927199.92\n",
      "Train root mean squared error is: 40198.60\n",
      "Train r^2 variance score: 0.99659\n",
      "\n",
      "----------------------------Model Evaluation---------------------------------\n",
      "Test mean squared error is: 618064643.50\n",
      "Test root mean squared error is: 24860.91\n",
      "Test r^2 variance score: 0.99848\n"
     ]
    },
    {
     "name": "stderr",
     "output_type": "stream",
     "text": [
      "C:\\Users\\Hok Wang\\AppData\\Local\\Temp\\ipykernel_13316\\3226740851.py:15: FutureWarning: The frame.append method is deprecated and will be removed from pandas in a future version. Use pandas.concat instead.\n",
      "  RESULTS_SUMMARY = RESULTS_SUMMARY.append({'Dataset': 'Zillow', 'Imputation Algorithm': 'KNeighboursRegressor', 'n_nearest_features': 1,'Train r^2 score': train_r2_score,\n"
     ]
    }
   ],
   "source": [
    "# Model evaluation\n",
    "br_estimator_knn = BayesianRidge()\n",
    "# Scaler\n",
    "scaler_knn = StandardScaler()\n",
    "\n",
    "# Estimator\n",
    "estimator_knn_eval = make_pipeline(scaler_knn, br_estimator_knn)\n",
    "\n",
    "# Scores\n",
    "train_mean_error,train_rms, train_r2_score = run_pipeline(X_train_knn, Y_train_knn, X_train_knn, Y_train_knn, estimator_knn_eval, iterative_imputer_params_knn)\n",
    "test_mean_error,test_rms, test_r2_score = run_pipeline(X_train_knn, Y_train_knn, X_test_knn, Y_test_knn, estimator_knn_eval, iterative_imputer_params_knn)\n",
    "\n",
    "\n",
    "# Append to results dataframe\n",
    "RESULTS_SUMMARY = RESULTS_SUMMARY.append({'Dataset': 'Zillow', 'Imputation Algorithm': 'KNeighboursRegressor', 'n_nearest_features': 1,'Train r^2 score': train_r2_score,\n",
    "                                            'Prediction r^2 score': test_r2_score, 'Train RMSE':train_rms,'Prediction RMSE':test_rms}, ignore_index=True)\n",
    "\n",
    "# Print results\n",
    "print('----------------------------Model Train---------------------------------')\n",
    "print('\\nTrain mean squared error is: %0.2f' % train_mean_error)\n",
    "print('Train root mean squared error is: %0.2f' % train_rms)\n",
    "print('Train r^2 variance score: %0.5f' % train_r2_score)\n",
    "print('\\n----------------------------Model Evaluation---------------------------------')\n",
    "print('Test mean squared error is: %0.2f' % test_mean_error)\n",
    "print('Test root mean squared error is: %0.2f' % test_rms)\n",
    "print('Test r^2 variance score: %0.5f' % test_r2_score)"
   ]
  },
  {
   "cell_type": "code",
   "execution_count": 62,
   "metadata": {},
   "outputs": [
    {
     "data": {
      "text/html": [
       "<div>\n",
       "<style scoped>\n",
       "    .dataframe tbody tr th:only-of-type {\n",
       "        vertical-align: middle;\n",
       "    }\n",
       "\n",
       "    .dataframe tbody tr th {\n",
       "        vertical-align: top;\n",
       "    }\n",
       "\n",
       "    .dataframe thead th {\n",
       "        text-align: right;\n",
       "    }\n",
       "</style>\n",
       "<table border=\"1\" class=\"dataframe\">\n",
       "  <thead>\n",
       "    <tr style=\"text-align: right;\">\n",
       "      <th></th>\n",
       "      <th>Dataset</th>\n",
       "      <th>Imputation Algorithm</th>\n",
       "      <th>n_nearest_features</th>\n",
       "      <th>Train r^2 score</th>\n",
       "      <th>Prediction r^2 score</th>\n",
       "      <th>Train RMSE</th>\n",
       "      <th>Prediction RMSE</th>\n",
       "    </tr>\n",
       "  </thead>\n",
       "  <tbody>\n",
       "    <tr>\n",
       "      <th>0</th>\n",
       "      <td>Zillow</td>\n",
       "      <td>BayesianRidge</td>\n",
       "      <td>1</td>\n",
       "      <td>0.999725</td>\n",
       "      <td>0.999937</td>\n",
       "      <td>10302.321274</td>\n",
       "      <td>6917.426284</td>\n",
       "    </tr>\n",
       "    <tr>\n",
       "      <th>1</th>\n",
       "      <td>Zillow</td>\n",
       "      <td>Mean</td>\n",
       "      <td>Nan</td>\n",
       "      <td>0.999054</td>\n",
       "      <td>0.999061</td>\n",
       "      <td>20782.445459</td>\n",
       "      <td>21173.482257</td>\n",
       "    </tr>\n",
       "    <tr>\n",
       "      <th>2</th>\n",
       "      <td>Zillow</td>\n",
       "      <td>KNeighboursRegressor</td>\n",
       "      <td>1</td>\n",
       "      <td>0.998859</td>\n",
       "      <td>0.998969</td>\n",
       "      <td>22764.386025</td>\n",
       "      <td>22427.629817</td>\n",
       "    </tr>\n",
       "    <tr>\n",
       "      <th>3</th>\n",
       "      <td>Zillow</td>\n",
       "      <td>KNeighboursRegressor</td>\n",
       "      <td>1</td>\n",
       "      <td>0.995551</td>\n",
       "      <td>0.999026</td>\n",
       "      <td>39712.056425</td>\n",
       "      <td>29381.394445</td>\n",
       "    </tr>\n",
       "  </tbody>\n",
       "</table>\n",
       "</div>"
      ],
      "text/plain": [
       "  Dataset  Imputation Algorithm n_nearest_features  Train r^2 score  \\\n",
       "0  Zillow         BayesianRidge                  1         0.999725   \n",
       "1  Zillow                  Mean                Nan         0.999054   \n",
       "2  Zillow  KNeighboursRegressor                  1         0.998859   \n",
       "3  Zillow  KNeighboursRegressor                  1         0.995551   \n",
       "\n",
       "   Prediction r^2 score    Train RMSE  Prediction RMSE  \n",
       "0              0.999937  10302.321274      6917.426284  \n",
       "1              0.999061  20782.445459     21173.482257  \n",
       "2              0.998969  22764.386025     22427.629817  \n",
       "3              0.999026  39712.056425     29381.394445  "
      ]
     },
     "execution_count": 62,
     "metadata": {},
     "output_type": "execute_result"
    }
   ],
   "source": [
    "RESULTS_SUMMARY"
   ]
  },
  {
   "cell_type": "code",
   "execution_count": null,
   "metadata": {},
   "outputs": [],
   "source": []
  }
 ],
 "metadata": {
  "colab": {
   "authorship_tag": "ABX9TyPT5o6SMlnR20Yse9BjNJ2S",
   "provenance": []
  },
  "kernelspec": {
   "display_name": "Python 3 (ipykernel)",
   "language": "python",
   "name": "python3"
  },
  "language_info": {
   "codemirror_mode": {
    "name": "ipython",
    "version": 3
   },
   "file_extension": ".py",
   "mimetype": "text/x-python",
   "name": "python",
   "nbconvert_exporter": "python",
   "pygments_lexer": "ipython3",
   "version": "3.9.13"
  }
 },
 "nbformat": 4,
 "nbformat_minor": 1
}
